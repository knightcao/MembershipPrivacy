{
 "cells": [
  {
   "cell_type": "code",
   "execution_count": 1,
   "metadata": {},
   "outputs": [
    {
     "name": "stderr",
     "output_type": "stream",
     "text": [
      "Using TensorFlow backend.\n"
     ]
    }
   ],
   "source": [
    "import keras\n",
    "from keras.datasets import mnist\n",
    "from keras.models import Sequential\n",
    "from keras.layers import Dense, Dropout, Flatten\n",
    "from keras.layers import Conv2D, MaxPooling2D\n",
    "from keras import backend as K\n",
    "from keras.models import load_model  \n",
    "from keras.optimizers import RMSprop"
   ]
  },
  {
   "cell_type": "code",
   "execution_count": 2,
   "metadata": {},
   "outputs": [],
   "source": [
    "batch_size = 128\n",
    "num_classes = 10\n",
    "epochs = 10"
   ]
  },
  {
   "cell_type": "code",
   "execution_count": 3,
   "metadata": {},
   "outputs": [],
   "source": [
    "# input image dimensions\n",
    "img_rows, img_cols = 28, 28"
   ]
  },
  {
   "cell_type": "code",
   "execution_count": 4,
   "metadata": {},
   "outputs": [],
   "source": [
    "# the data, split between train and test sets\n",
    "(x_train, y_train), (x_test, y_test) = mnist.load_data()"
   ]
  },
  {
   "cell_type": "code",
   "execution_count": 5,
   "metadata": {},
   "outputs": [
    {
     "name": "stdout",
     "output_type": "stream",
     "text": [
      "channels_last\n"
     ]
    }
   ],
   "source": [
    "print(K.image_data_format())"
   ]
  },
  {
   "cell_type": "code",
   "execution_count": 6,
   "metadata": {},
   "outputs": [],
   "source": [
    "if K.image_data_format() == 'channels_first':\n",
    "    x_train = x_train.reshape(x_train.shape[0], 1, img_rows, img_cols)\n",
    "    x_test = x_test.reshape(x_test.shape[0], 1, img_rows, img_cols)\n",
    "    input_shape = (1, img_rows, img_cols)\n",
    "else:\n",
    "    x_train = x_train.reshape(x_train.shape[0], img_rows, img_cols, 1)\n",
    "    x_test = x_test.reshape(x_test.shape[0], img_rows, img_cols, 1)\n",
    "input_shape = (img_rows, img_cols, 1)"
   ]
  },
  {
   "cell_type": "code",
   "execution_count": 7,
   "metadata": {},
   "outputs": [
    {
     "name": "stdout",
     "output_type": "stream",
     "text": [
      "x_train shape: (60000, 28, 28, 1)\n",
      "60000 train samples\n",
      "10000 test samples\n"
     ]
    }
   ],
   "source": [
    "x_train = x_train.astype('float32')\n",
    "x_test = x_test.astype('float32')\n",
    "x_train /= 255\n",
    "x_test /= 255\n",
    "print('x_train shape:', x_train.shape)\n",
    "print(x_train.shape[0], 'train samples')\n",
    "print(x_test.shape[0], 'test samples')"
   ]
  },
  {
   "cell_type": "code",
   "execution_count": 8,
   "metadata": {},
   "outputs": [],
   "source": [
    "# convert class vectors to binary class matrices\n",
    "y_train = keras.utils.to_categorical(y_train, num_classes)\n",
    "y_test = keras.utils.to_categorical(y_test, num_classes)"
   ]
  },
  {
   "cell_type": "code",
   "execution_count": 9,
   "metadata": {},
   "outputs": [],
   "source": [
    "start_index = 20000\n",
    "x_train = x_train[start_index:start_index + 10000]\n",
    "y_train = y_train[start_index:start_index + 10000]"
   ]
  },
  {
   "cell_type": "code",
   "execution_count": 10,
   "metadata": {},
   "outputs": [
    {
     "name": "stdout",
     "output_type": "stream",
     "text": [
      "(10000, 28, 28, 1)\n",
      "(10000, 10)\n"
     ]
    }
   ],
   "source": [
    "print(x_train.shape)\n",
    "print(y_train.shape)"
   ]
  },
  {
   "cell_type": "code",
   "execution_count": 11,
   "metadata": {},
   "outputs": [],
   "source": [
    "model_target = load_model('model\\\\model_target.h5')"
   ]
  },
  {
   "cell_type": "code",
   "execution_count": 12,
   "metadata": {},
   "outputs": [
    {
     "name": "stdout",
     "output_type": "stream",
     "text": [
      "10000/10000 [==============================] - 21s 2ms/step\n"
     ]
    }
   ],
   "source": [
    "prediction = model_target.predict(x_train,verbose=1)"
   ]
  },
  {
   "cell_type": "code",
   "execution_count": 13,
   "metadata": {},
   "outputs": [
    {
     "name": "stdout",
     "output_type": "stream",
     "text": [
      "10000/10000 [==============================] - 31s 3ms/step\n",
      "Test loss: 0.07406185300303623\n",
      "Test accuracy: 0.9784\n"
     ]
    }
   ],
   "source": [
    "score = model_target.evaluate(x_train, y_train, verbose=1)\n",
    "print('Test loss:', score[0])\n",
    "print('Test accuracy:', score[1])"
   ]
  },
  {
   "cell_type": "code",
   "execution_count": 14,
   "metadata": {},
   "outputs": [
    {
     "name": "stdout",
     "output_type": "stream",
     "text": [
      "[[5.1313565e-10 6.4259999e-12 8.3543667e-12 ... 3.8267466e-12\n",
      "  3.3841177e-06 3.3348911e-08]\n",
      " [3.0878812e-08 7.1742932e-09 2.1024962e-09 ... 4.7910115e-05\n",
      "  1.4762379e-06 9.9985337e-01]\n",
      " [4.8602382e-05 2.5610700e-01 3.2202571e-04 ... 3.6679173e-01\n",
      "  8.0341399e-02 2.1407427e-01]\n",
      " ...\n",
      " [1.4291663e-08 3.2975990e-12 7.4545362e-08 ... 1.8525429e-12\n",
      "  1.4749561e-10 3.5914607e-10]\n",
      " [6.9148026e-10 1.8366969e-11 5.8092914e-10 ... 9.9999940e-01\n",
      "  1.6463300e-10 6.4227953e-07]\n",
      " [3.3365986e-09 9.9980968e-01 7.1205082e-05 ... 4.7232570e-05\n",
      "  1.2346182e-05 1.4677808e-07]]\n",
      "(10000, 10)\n"
     ]
    }
   ],
   "source": [
    "print(prediction)\n",
    "print(prediction.shape)"
   ]
  },
  {
   "cell_type": "code",
   "execution_count": null,
   "metadata": {},
   "outputs": [],
   "source": []
  },
  {
   "cell_type": "code",
   "execution_count": 15,
   "metadata": {},
   "outputs": [],
   "source": [
    "model = Sequential()\n",
    "model.add(Dense(512, activation='relu', input_shape = (784,)))\n",
    "model.add(Dropout(0.2))\n",
    "model.add(Dense(512, activation='relu'))\n",
    "model.add(Dropout(0.2))\n",
    "model.add(Dense(10,activation='softmax'))"
   ]
  },
  {
   "cell_type": "code",
   "execution_count": 16,
   "metadata": {},
   "outputs": [],
   "source": [
    "model.compile(loss = 'categorical_crossentropy',\n",
    "              optimizer = RMSprop(),\n",
    "              metrics = ['accuracy'])"
   ]
  },
  {
   "cell_type": "code",
   "execution_count": 17,
   "metadata": {
    "scrolled": true
   },
   "outputs": [],
   "source": [
    "x_train = x_train.reshape(10000,784)"
   ]
  },
  {
   "cell_type": "code",
   "execution_count": 18,
   "metadata": {
    "scrolled": true
   },
   "outputs": [
    {
     "name": "stdout",
     "output_type": "stream",
     "text": [
      "Epoch 1/100\n",
      "10000/10000 [==============================] - 13s 1ms/step - loss: 0.4419 - acc: 0.8574\n",
      "Epoch 2/100\n",
      "10000/10000 [==============================] - 10s 979us/step - loss: 0.1774 - acc: 0.9461\n",
      "Epoch 3/100\n",
      "10000/10000 [==============================] - 9s 856us/step - loss: 0.1294 - acc: 0.9638\n",
      "Epoch 4/100\n",
      "10000/10000 [==============================] - 10s 964us/step - loss: 0.1033 - acc: 0.9752\n",
      "Epoch 5/100\n",
      "10000/10000 [==============================] - 10s 996us/step - loss: 0.0922 - acc: 0.9771\n",
      "Epoch 6/100\n",
      "10000/10000 [==============================] - 9s 857us/step - loss: 0.0865 - acc: 0.9809\n",
      "Epoch 7/100\n",
      "10000/10000 [==============================] - 8s 779us/step - loss: 0.0812 - acc: 0.9825\n",
      "Epoch 8/100\n",
      "10000/10000 [==============================] - 8s 818us/step - loss: 0.0784 - acc: 0.9840\n",
      "Epoch 9/100\n",
      "10000/10000 [==============================] - 10s 982us/step - loss: 0.0746 - acc: 0.9846\n",
      "Epoch 10/100\n",
      "10000/10000 [==============================] - 10s 1ms/step - loss: 0.0718 - acc: 0.9857\n",
      "Epoch 11/100\n",
      "10000/10000 [==============================] - 10s 1ms/step - loss: 0.0723 - acc: 0.9849\n",
      "Epoch 12/100\n",
      "10000/10000 [==============================] - 10s 1ms/step - loss: 0.0715 - acc: 0.9862\n",
      "Epoch 13/100\n",
      "10000/10000 [==============================] - 10s 988us/step - loss: 0.0693 - acc: 0.9870\n",
      "Epoch 14/100\n",
      "10000/10000 [==============================] - 10s 960us/step - loss: 0.0697 - acc: 0.9857\n",
      "Epoch 15/100\n",
      "10000/10000 [==============================] - 10s 981us/step - loss: 0.0672 - acc: 0.9870\n",
      "Epoch 16/100\n",
      "10000/10000 [==============================] - 10s 972us/step - loss: 0.0691 - acc: 0.9844\n",
      "Epoch 17/100\n",
      "10000/10000 [==============================] - 10s 985us/step - loss: 0.0675 - acc: 0.9874\n",
      "Epoch 18/100\n",
      "10000/10000 [==============================] - 11s 1ms/step - loss: 0.0635 - acc: 0.9870\n",
      "Epoch 19/100\n",
      "10000/10000 [==============================] - 10s 1ms/step - loss: 0.0655 - acc: 0.9873\n",
      "Epoch 20/100\n",
      "10000/10000 [==============================] - 10s 987us/step - loss: 0.0629 - acc: 0.9891\n",
      "Epoch 21/100\n",
      "10000/10000 [==============================] - 10s 1ms/step - loss: 0.0631 - acc: 0.9880\n",
      "Epoch 22/100\n",
      "10000/10000 [==============================] - 10s 1ms/step - loss: 0.0634 - acc: 0.9876\n",
      "Epoch 23/100\n",
      "10000/10000 [==============================] - 9s 939us/step - loss: 0.0613 - acc: 0.9892\n",
      "Epoch 24/100\n",
      "10000/10000 [==============================] - 10s 972us/step - loss: 0.0612 - acc: 0.9889\n",
      "Epoch 25/100\n",
      "10000/10000 [==============================] - 10s 950us/step - loss: 0.0618 - acc: 0.9892\n",
      "Epoch 26/100\n",
      "10000/10000 [==============================] - 9s 931us/step - loss: 0.0607 - acc: 0.9895\n",
      "Epoch 27/100\n",
      "10000/10000 [==============================] - 9s 944us/step - loss: 0.0608 - acc: 0.9882\n",
      "Epoch 28/100\n",
      "10000/10000 [==============================] - 9s 935us/step - loss: 0.0603 - acc: 0.9891\n",
      "Epoch 29/100\n",
      "10000/10000 [==============================] - 10s 1ms/step - loss: 0.0607 - acc: 0.9889\n",
      "Epoch 30/100\n",
      "10000/10000 [==============================] - 10s 963us/step - loss: 0.0617 - acc: 0.9883\n",
      "Epoch 31/100\n",
      "10000/10000 [==============================] - 10s 1ms/step - loss: 0.0596 - acc: 0.9892: 1s - loss: 0.0612 \n",
      "Epoch 32/100\n",
      "10000/10000 [==============================] - 10s 968us/step - loss: 0.0594 - acc: 0.9897\n",
      "Epoch 33/100\n",
      "10000/10000 [==============================] - 10s 1ms/step - loss: 0.0587 - acc: 0.9897\n",
      "Epoch 34/100\n",
      "10000/10000 [==============================] - 9s 941us/step - loss: 0.0597 - acc: 0.9888\n",
      "Epoch 35/100\n",
      "10000/10000 [==============================] - 10s 1ms/step - loss: 0.0579 - acc: 0.9908\n",
      "Epoch 36/100\n",
      "10000/10000 [==============================] - 10s 960us/step - loss: 0.0586 - acc: 0.9902\n",
      "Epoch 37/100\n",
      "10000/10000 [==============================] - 9s 932us/step - loss: 0.0577 - acc: 0.9900\n",
      "Epoch 38/100\n",
      "10000/10000 [==============================] - 10s 953us/step - loss: 0.0580 - acc: 0.9901\n",
      "Epoch 39/100\n",
      "10000/10000 [==============================] - 10s 953us/step - loss: 0.0564 - acc: 0.99025s -  - ETA: 1s - loss: 0.0561 - \n",
      "Epoch 40/100\n",
      "10000/10000 [==============================] - 10s 958us/step - loss: 0.0572 - acc: 0.9902\n",
      "Epoch 41/100\n",
      "10000/10000 [==============================] - 9s 941us/step - loss: 0.0580 - acc: 0.9896\n",
      "Epoch 42/100\n",
      "10000/10000 [==============================] - 9s 938us/step - loss: 0.0567 - acc: 0.9909 3s \n",
      "Epoch 43/100\n",
      "10000/10000 [==============================] - 10s 972us/step - loss: 0.0559 - acc: 0.9912\n",
      "Epoch 44/100\n",
      "10000/10000 [==============================] - 10s 1ms/step - loss: 0.0557 - acc: 0.9900: 0s - loss: 0.0557 - acc: 0.\n",
      "Epoch 45/100\n",
      "10000/10000 [==============================] - 10s 1000us/step - loss: 0.0557 - acc: 0.9910\n",
      "Epoch 46/100\n",
      "10000/10000 [==============================] - 10s 1ms/step - loss: 0.0554 - acc: 0.9904\n",
      "Epoch 47/100\n",
      "10000/10000 [==============================] - 10s 1ms/step - loss: 0.0561 - acc: 0.9897\n",
      "Epoch 48/100\n",
      "10000/10000 [==============================] - 10s 969us/step - loss: 0.0555 - acc: 0.9914\n",
      "Epoch 49/100\n",
      "10000/10000 [==============================] - 10s 966us/step - loss: 0.0557 - acc: 0.9902\n",
      "Epoch 50/100\n",
      "10000/10000 [==============================] - 10s 961us/step - loss: 0.0562 - acc: 0.9906\n",
      "Epoch 51/100\n",
      "10000/10000 [==============================] - 10s 978us/step - loss: 0.0558 - acc: 0.99042s - loss: 0\n",
      "Epoch 52/100\n",
      "10000/10000 [==============================] - 10s 974us/step - loss: 0.0552 - acc: 0.9912\n",
      "Epoch 53/100\n",
      "10000/10000 [==============================] - 10s 961us/step - loss: 0.0550 - acc: 0.9922\n",
      "Epoch 54/100\n",
      "10000/10000 [==============================] - 10s 958us/step - loss: 0.0554 - acc: 0.99142s - loss: 0.\n",
      "Epoch 55/100\n",
      "10000/10000 [==============================] - 9s 921us/step - loss: 0.0546 - acc: 0.9919 1s - loss: 0.0520\n",
      "Epoch 56/100\n",
      "10000/10000 [==============================] - 11s 1ms/step - loss: 0.0546 - acc: 0.9913\n",
      "Epoch 57/100\n",
      "10000/10000 [==============================] - 12s 1ms/step - loss: 0.0539 - acc: 0.9907\n",
      "Epoch 58/100\n",
      "10000/10000 [==============================] - 11s 1ms/step - loss: 0.0547 - acc: 0.9899\n",
      "Epoch 59/100\n",
      "10000/10000 [==============================] - 13s 1ms/step - loss: 0.0547 - acc: 0.9914\n",
      "Epoch 60/100\n",
      "10000/10000 [==============================] - 11s 1ms/step - loss: 0.0544 - acc: 0.9924: 6 - ETA: 0s - loss: 0.0547 - acc: 0\n",
      "Epoch 61/100\n",
      "10000/10000 [==============================] - 9s 922us/step - loss: 0.0540 - acc: 0.9910\n",
      "Epoch 62/100\n",
      "10000/10000 [==============================] - 10s 976us/step - loss: 0.0543 - acc: 0.9901\n",
      "Epoch 63/100\n",
      "10000/10000 [==============================] - 9s 949us/step - loss: 0.0536 - acc: 0.9919\n",
      "Epoch 64/100\n",
      "10000/10000 [==============================] - 10s 1ms/step - loss: 0.0532 - acc: 0.9912: 0s - loss: 0.0534 - acc: \n",
      "Epoch 65/100\n",
      "10000/10000 [==============================] - 9s 926us/step - loss: 0.0530 - acc: 0.9910\n",
      "Epoch 66/100\n",
      "10000/10000 [==============================] - 10s 964us/step - loss: 0.0534 - acc: 0.9914\n",
      "Epoch 67/100\n",
      "10000/10000 [==============================] - 10s 971us/step - loss: 0.0535 - acc: 0.9907\n",
      "Epoch 68/100\n",
      "10000/10000 [==============================] - 9s 929us/step - loss: 0.0532 - acc: 0.9917 - ETA: 2s - loss: \n",
      "Epoch 69/100\n",
      "10000/10000 [==============================] - 10s 1ms/step - loss: 0.0525 - acc: 0.9920\n",
      "Epoch 70/100\n",
      "10000/10000 [==============================] - 9s 950us/step - loss: 0.0541 - acc: 0.9928\n",
      "Epoch 71/100\n",
      "10000/10000 [==============================] - 9s 940us/step - loss: 0.0531 - acc: 0.9908\n",
      "Epoch 72/100\n",
      "10000/10000 [==============================] - 10s 992us/step - loss: 0.0525 - acc: 0.9909\n",
      "Epoch 73/100\n",
      "10000/10000 [==============================] - 10s 1ms/step - loss: 0.0535 - acc: 0.9911: 4\n",
      "Epoch 74/100\n",
      "10000/10000 [==============================] - 9s 923us/step - loss: 0.0524 - acc: 0.9926\n",
      "Epoch 75/100\n",
      "10000/10000 [==============================] - 10s 961us/step - loss: 0.0535 - acc: 0.9926\n",
      "Epoch 76/100\n",
      "10000/10000 [==============================] - 9s 922us/step - loss: 0.0520 - acc: 0.9926\n",
      "Epoch 77/100\n",
      "10000/10000 [==============================] - 9s 904us/step - loss: 0.0527 - acc: 0.9928\n",
      "Epoch 78/100\n"
     ]
    },
    {
     "name": "stdout",
     "output_type": "stream",
     "text": [
      "10000/10000 [==============================] - 9s 943us/step - loss: 0.0528 - acc: 0.9923\n",
      "Epoch 79/100\n",
      "10000/10000 [==============================] - 10s 964us/step - loss: 0.0532 - acc: 0.9905\n",
      "Epoch 80/100\n",
      "10000/10000 [==============================] - 9s 949us/step - loss: 0.0520 - acc: 0.9930\n",
      "Epoch 81/100\n",
      "10000/10000 [==============================] - 10s 960us/step - loss: 0.0523 - acc: 0.9908\n",
      "Epoch 82/100\n",
      "10000/10000 [==============================] - 10s 951us/step - loss: 0.0520 - acc: 0.9924\n",
      "Epoch 83/100\n",
      "10000/10000 [==============================] - 10s 983us/step - loss: 0.0524 - acc: 0.9920\n",
      "Epoch 84/100\n",
      "10000/10000 [==============================] - 9s 890us/step - loss: 0.0523 - acc: 0.9912\n",
      "Epoch 85/100\n",
      "10000/10000 [==============================] - 10s 952us/step - loss: 0.0526 - acc: 0.9926\n",
      "Epoch 86/100\n",
      "10000/10000 [==============================] - 10s 967us/step - loss: 0.0522 - acc: 0.9915\n",
      "Epoch 87/100\n",
      "10000/10000 [==============================] - 10s 1ms/step - loss: 0.0526 - acc: 0.9915\n",
      "Epoch 88/100\n",
      "10000/10000 [==============================] - 9s 913us/step - loss: 0.0511 - acc: 0.9935\n",
      "Epoch 89/100\n",
      "10000/10000 [==============================] - 9s 931us/step - loss: 0.0510 - acc: 0.9934 3s\n",
      "Epoch 90/100\n",
      "10000/10000 [==============================] - 9s 949us/step - loss: 0.0523 - acc: 0.9915\n",
      "Epoch 91/100\n",
      "10000/10000 [==============================] - 9s 928us/step - loss: 0.0515 - acc: 0.9920\n",
      "Epoch 92/100\n",
      "10000/10000 [==============================] - 9s 930us/step - loss: 0.0519 - acc: 0.9927\n",
      "Epoch 93/100\n",
      "10000/10000 [==============================] - 10s 963us/step - loss: 0.0508 - acc: 0.9935\n",
      "Epoch 94/100\n",
      "10000/10000 [==============================] - 9s 932us/step - loss: 0.0525 - acc: 0.9923 2s - loss: 0.0541\n",
      "Epoch 95/100\n",
      "10000/10000 [==============================] - 8s 841us/step - loss: 0.0514 - acc: 0.9917\n",
      "Epoch 96/100\n",
      "10000/10000 [==============================] - 8s 779us/step - loss: 0.0514 - acc: 0.9926\n",
      "Epoch 97/100\n",
      "10000/10000 [==============================] - 7s 742us/step - loss: 0.0514 - acc: 0.9935 4s - loss: 0.0513 - a\n",
      "Epoch 98/100\n",
      "10000/10000 [==============================] - 8s 780us/step - loss: 0.0515 - acc: 0.9919\n",
      "Epoch 99/100\n",
      "10000/10000 [==============================] - 6s 639us/step - loss: 0.0515 - acc: 0.9923\n",
      "Epoch 100/100\n",
      "10000/10000 [==============================] - 6s 634us/step - loss: 0.0517 - acc: 0.9924\n"
     ]
    },
    {
     "data": {
      "text/plain": [
       "<keras.callbacks.History at 0x16063a6c748>"
      ]
     },
     "execution_count": 18,
     "metadata": {},
     "output_type": "execute_result"
    }
   ],
   "source": [
    "model.fit(x_train,prediction,\n",
    "                    batch_size = 64,\n",
    "                    epochs = 100,\n",
    "                    verbose=1)"
   ]
  },
  {
   "cell_type": "code",
   "execution_count": 19,
   "metadata": {},
   "outputs": [],
   "source": [
    "model.save('model\\\\shadow2_T_1.h5')"
   ]
  },
  {
   "cell_type": "code",
   "execution_count": 20,
   "metadata": {},
   "outputs": [
    {
     "name": "stdout",
     "output_type": "stream",
     "text": [
      "10000/10000 [==============================] - 3s 276us/step\n",
      "Test loss: 0.11060233009594958\n",
      "Test accuracy: 0.969\n"
     ]
    }
   ],
   "source": [
    "x_test = x_test.reshape(10000,784)\n",
    "score = model.evaluate(x_test, y_test, verbose=1)\n",
    "print('Test loss:', score[0])\n",
    "print('Test accuracy:', score[1])"
   ]
  },
  {
   "cell_type": "code",
   "execution_count": null,
   "metadata": {},
   "outputs": [],
   "source": []
  }
 ],
 "metadata": {
  "kernelspec": {
   "display_name": "python35",
   "language": "python",
   "name": "python35"
  },
  "language_info": {
   "codemirror_mode": {
    "name": "ipython",
    "version": 3
   },
   "file_extension": ".py",
   "mimetype": "text/x-python",
   "name": "python",
   "nbconvert_exporter": "python",
   "pygments_lexer": "ipython3",
   "version": "3.5.6"
  }
 },
 "nbformat": 4,
 "nbformat_minor": 2
}
