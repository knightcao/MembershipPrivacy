{
 "cells": [
  {
   "cell_type": "code",
   "execution_count": 1,
   "metadata": {},
   "outputs": [
    {
     "name": "stderr",
     "output_type": "stream",
     "text": [
      "Using TensorFlow backend.\n"
     ]
    }
   ],
   "source": [
    "import keras\n",
    "from keras.datasets import mnist\n",
    "from keras.models import Sequential\n",
    "from keras.layers import Dense, Dropout, Flatten\n",
    "from keras.layers import Conv2D, MaxPooling2D\n",
    "from keras import backend as K\n",
    "from keras.models import load_model  \n",
    "from keras.optimizers import RMSprop"
   ]
  },
  {
   "cell_type": "code",
   "execution_count": 2,
   "metadata": {},
   "outputs": [],
   "source": [
    "batch_size = 128\n",
    "num_classes = 10\n",
    "epochs = 10"
   ]
  },
  {
   "cell_type": "code",
   "execution_count": 3,
   "metadata": {},
   "outputs": [],
   "source": [
    "# input image dimensions\n",
    "img_rows, img_cols = 28, 28"
   ]
  },
  {
   "cell_type": "code",
   "execution_count": 4,
   "metadata": {},
   "outputs": [],
   "source": [
    "# the data, split between train and test sets\n",
    "(x_train, y_train), (x_test, y_test) = mnist.load_data()"
   ]
  },
  {
   "cell_type": "code",
   "execution_count": 5,
   "metadata": {},
   "outputs": [
    {
     "name": "stdout",
     "output_type": "stream",
     "text": [
      "channels_last\n"
     ]
    }
   ],
   "source": [
    "print(K.image_data_format())"
   ]
  },
  {
   "cell_type": "code",
   "execution_count": 6,
   "metadata": {},
   "outputs": [],
   "source": [
    "if K.image_data_format() == 'channels_first':\n",
    "    x_train = x_train.reshape(x_train.shape[0], 1, img_rows, img_cols)\n",
    "    x_test = x_test.reshape(x_test.shape[0], 1, img_rows, img_cols)\n",
    "    input_shape = (1, img_rows, img_cols)\n",
    "else:\n",
    "    x_train = x_train.reshape(x_train.shape[0], img_rows, img_cols, 1)\n",
    "    x_test = x_test.reshape(x_test.shape[0], img_rows, img_cols, 1)\n",
    "input_shape = (img_rows, img_cols, 1)"
   ]
  },
  {
   "cell_type": "code",
   "execution_count": 7,
   "metadata": {},
   "outputs": [
    {
     "name": "stdout",
     "output_type": "stream",
     "text": [
      "x_train shape: (60000, 28, 28, 1)\n",
      "60000 train samples\n",
      "10000 test samples\n"
     ]
    }
   ],
   "source": [
    "x_train = x_train.astype('float32')\n",
    "x_test = x_test.astype('float32')\n",
    "x_train /= 255\n",
    "x_test /= 255\n",
    "print('x_train shape:', x_train.shape)\n",
    "print(x_train.shape[0], 'train samples')\n",
    "print(x_test.shape[0], 'test samples')"
   ]
  },
  {
   "cell_type": "code",
   "execution_count": 8,
   "metadata": {},
   "outputs": [],
   "source": [
    "# convert class vectors to binary class matrices\n",
    "y_train = keras.utils.to_categorical(y_train, num_classes)\n",
    "y_test = keras.utils.to_categorical(y_test, num_classes)"
   ]
  },
  {
   "cell_type": "code",
   "execution_count": 9,
   "metadata": {},
   "outputs": [],
   "source": [
    "start_index = 10000\n",
    "x_train = x_train[start_index:start_index + 10000]\n",
    "y_train = y_train[start_index:start_index + 10000]"
   ]
  },
  {
   "cell_type": "code",
   "execution_count": 10,
   "metadata": {},
   "outputs": [
    {
     "name": "stdout",
     "output_type": "stream",
     "text": [
      "(10000, 28, 28, 1)\n",
      "(10000, 10)\n"
     ]
    }
   ],
   "source": [
    "print(x_train.shape)\n",
    "print(y_train.shape)"
   ]
  },
  {
   "cell_type": "code",
   "execution_count": 11,
   "metadata": {},
   "outputs": [],
   "source": [
    "model_target = load_model('model\\\\model_target.h5')"
   ]
  },
  {
   "cell_type": "code",
   "execution_count": 12,
   "metadata": {},
   "outputs": [
    {
     "name": "stdout",
     "output_type": "stream",
     "text": [
      "10000/10000 [==============================] - 14s 1ms/step\n"
     ]
    }
   ],
   "source": [
    "prediction = model_target.predict(x_train,verbose=1)"
   ]
  },
  {
   "cell_type": "code",
   "execution_count": 13,
   "metadata": {},
   "outputs": [
    {
     "name": "stdout",
     "output_type": "stream",
     "text": [
      "10000/10000 [==============================] - 17s 2ms/step\n",
      "Test loss: 0.06931674998125527\n",
      "Test accuracy: 0.9795\n"
     ]
    }
   ],
   "source": [
    "score = model_target.evaluate(x_train, y_train, verbose=1)\n",
    "print('Test loss:', score[0])\n",
    "print('Test accuracy:', score[1])"
   ]
  },
  {
   "cell_type": "code",
   "execution_count": 14,
   "metadata": {},
   "outputs": [
    {
     "name": "stdout",
     "output_type": "stream",
     "text": [
      "[[7.64618166e-15 3.65598231e-13 1.89873482e-11 ... 1.68559444e-10\n",
      "  3.08319724e-11 2.67149969e-10]\n",
      " [1.20148425e-08 4.72356733e-05 3.61259004e-06 ... 6.77041534e-10\n",
      "  9.99945045e-01 5.38168798e-09]\n",
      " [3.93096077e-11 1.96361905e-09 1.47015697e-07 ... 9.99998689e-01\n",
      "  1.88927043e-08 9.58408179e-08]\n",
      " ...\n",
      " [1.20312249e-09 9.99913931e-01 1.89758066e-06 ... 6.80798439e-06\n",
      "  7.24237398e-05 3.37682565e-07]\n",
      " [2.39720102e-08 1.75202120e-04 3.74795661e-08 ... 7.72220332e-08\n",
      "  4.46101808e-07 1.31922483e-04]\n",
      " [1.01633207e-13 2.03596056e-08 1.00000000e+00 ... 1.50562271e-11\n",
      "  7.85609355e-10 7.54021615e-14]]\n",
      "(10000, 10)\n"
     ]
    }
   ],
   "source": [
    "print(prediction)\n",
    "print(prediction.shape)"
   ]
  },
  {
   "cell_type": "code",
   "execution_count": null,
   "metadata": {},
   "outputs": [],
   "source": []
  },
  {
   "cell_type": "code",
   "execution_count": 15,
   "metadata": {},
   "outputs": [],
   "source": [
    "model = Sequential()\n",
    "model.add(Dense(512, activation='relu', input_shape = (784,)))\n",
    "model.add(Dropout(0.2))\n",
    "model.add(Dense(512, activation='relu'))\n",
    "model.add(Dropout(0.2))\n",
    "model.add(Dense(10,activation='softmax'))"
   ]
  },
  {
   "cell_type": "code",
   "execution_count": 16,
   "metadata": {},
   "outputs": [],
   "source": [
    "model.compile(loss = 'categorical_crossentropy',\n",
    "              optimizer = RMSprop(),\n",
    "              metrics = ['accuracy'])"
   ]
  },
  {
   "cell_type": "code",
   "execution_count": 17,
   "metadata": {
    "scrolled": true
   },
   "outputs": [],
   "source": [
    "x_train = x_train.reshape(10000,784)"
   ]
  },
  {
   "cell_type": "code",
   "execution_count": 18,
   "metadata": {
    "scrolled": true
   },
   "outputs": [
    {
     "name": "stdout",
     "output_type": "stream",
     "text": [
      "Epoch 1/100\n",
      "10000/10000 [==============================] - 10s 993us/step - loss: 0.4457 - acc: 0.8629\n",
      "Epoch 2/100\n",
      "10000/10000 [==============================] - 9s 871us/step - loss: 0.1833 - acc: 0.9458\n",
      "Epoch 3/100\n",
      "10000/10000 [==============================] - 10s 970us/step - loss: 0.1318 - acc: 0.9647\n",
      "Epoch 4/100\n",
      "10000/10000 [==============================] - 9s 902us/step - loss: 0.1030 - acc: 0.9757\n",
      "Epoch 5/100\n",
      "10000/10000 [==============================] - 9s 867us/step - loss: 0.0942 - acc: 0.9777\n",
      "Epoch 6/100\n",
      "10000/10000 [==============================] - 8s 756us/step - loss: 0.0890 - acc: 0.9802\n",
      "Epoch 7/100\n",
      "10000/10000 [==============================] - 10s 1ms/step - loss: 0.0803 - acc: 0.9845A: 1s - loss: 0.0819 - a\n",
      "Epoch 8/100\n",
      "10000/10000 [==============================] - 9s 869us/step - loss: 0.0796 - acc: 0.9833\n",
      "Epoch 9/100\n",
      "10000/10000 [==============================] - 8s 812us/step - loss: 0.0776 - acc: 0.9844\n",
      "Epoch 10/100\n",
      "10000/10000 [==============================] - 10s 965us/step - loss: 0.0727 - acc: 0.9873\n",
      "Epoch 11/100\n",
      "10000/10000 [==============================] - 10s 999us/step - loss: 0.0742 - acc: 0.9862\n",
      "Epoch 12/100\n",
      "10000/10000 [==============================] - 8s 816us/step - loss: 0.0708 - acc: 0.9863\n",
      "Epoch 13/100\n",
      "10000/10000 [==============================] - 8s 821us/step - loss: 0.0697 - acc: 0.9882\n",
      "Epoch 14/100\n",
      "10000/10000 [==============================] - 8s 811us/step - loss: 0.0700 - acc: 0.9859\n",
      "Epoch 15/100\n",
      "10000/10000 [==============================] - 10s 1ms/step - loss: 0.0676 - acc: 0.9858\n",
      "Epoch 16/100\n",
      "10000/10000 [==============================] - 10s 956us/step - loss: 0.0671 - acc: 0.9872\n",
      "Epoch 17/100\n",
      "10000/10000 [==============================] - 10s 984us/step - loss: 0.0668 - acc: 0.98740s - loss: 0.0670 - acc: 0.\n",
      "Epoch 18/100\n",
      "10000/10000 [==============================] - 10s 1ms/step - loss: 0.0643 - acc: 0.9883\n",
      "Epoch 19/100\n",
      "10000/10000 [==============================] - 10s 1ms/step - loss: 0.0657 - acc: 0.9875\n",
      "Epoch 20/100\n",
      "10000/10000 [==============================] - 10s 1ms/step - loss: 0.0638 - acc: 0.9880\n",
      "Epoch 21/100\n",
      "10000/10000 [==============================] - 10s 969us/step - loss: 0.0659 - acc: 0.9887\n",
      "Epoch 22/100\n",
      "10000/10000 [==============================] - 10s 981us/step - loss: 0.0645 - acc: 0.9884\n",
      "Epoch 23/100\n",
      "10000/10000 [==============================] - 10s 1ms/step - loss: 0.0621 - acc: 0.9898\n",
      "Epoch 24/100\n",
      "10000/10000 [==============================] - 11s 1ms/step - loss: 0.0626 - acc: 0.9893\n",
      "Epoch 25/100\n",
      "10000/10000 [==============================] - 10s 974us/step - loss: 0.0627 - acc: 0.9868\n",
      "Epoch 26/100\n",
      "10000/10000 [==============================] - 10s 1ms/step - loss: 0.0638 - acc: 0.9892\n",
      "Epoch 27/100\n",
      "10000/10000 [==============================] - 10s 1ms/step - loss: 0.0594 - acc: 0.9907\n",
      "Epoch 28/100\n",
      "10000/10000 [==============================] - 11s 1ms/step - loss: 0.0605 - acc: 0.9909\n",
      "Epoch 29/100\n",
      "10000/10000 [==============================] - 9s 923us/step - loss: 0.0600 - acc: 0.9888\n",
      "Epoch 30/100\n",
      "10000/10000 [==============================] - 9s 943us/step - loss: 0.0592 - acc: 0.9900\n",
      "Epoch 31/100\n",
      "10000/10000 [==============================] - 10s 957us/step - loss: 0.0604 - acc: 0.9895\n",
      "Epoch 32/100\n",
      "10000/10000 [==============================] - 10s 958us/step - loss: 0.0592 - acc: 0.99080s - loss: 0.0600 - acc: 0\n",
      "Epoch 33/100\n",
      "10000/10000 [==============================] - 9s 949us/step - loss: 0.0602 - acc: 0.9896\n",
      "Epoch 34/100\n",
      "10000/10000 [==============================] - 9s 925us/step - loss: 0.0597 - acc: 0.9899\n",
      "Epoch 35/100\n",
      "10000/10000 [==============================] - 9s 929us/step - loss: 0.0590 - acc: 0.9918\n",
      "Epoch 36/100\n",
      "10000/10000 [==============================] - 10s 962us/step - loss: 0.0584 - acc: 0.9899\n",
      "Epoch 37/100\n",
      "10000/10000 [==============================] - 10s 956us/step - loss: 0.0585 - acc: 0.9893\n",
      "Epoch 38/100\n",
      "10000/10000 [==============================] - 10s 1ms/step - loss: 0.0585 - acc: 0.9893: 2s - loss: 0\n",
      "Epoch 39/100\n",
      "10000/10000 [==============================] - 10s 979us/step - loss: 0.0592 - acc: 0.9900\n",
      "Epoch 40/100\n",
      "10000/10000 [==============================] - 9s 913us/step - loss: 0.0584 - acc: 0.9907\n",
      "Epoch 41/100\n",
      "10000/10000 [==============================] - 10s 983us/step - loss: 0.0583 - acc: 0.99023s -\n",
      "Epoch 42/100\n",
      "10000/10000 [==============================] - 9s 919us/step - loss: 0.0582 - acc: 0.9889\n",
      "Epoch 43/100\n",
      "10000/10000 [==============================] - 10s 989us/step - loss: 0.0576 - acc: 0.99141s - loss: 0.0571 - ac\n",
      "Epoch 44/100\n",
      "10000/10000 [==============================] - 10s 959us/step - loss: 0.0578 - acc: 0.9900\n",
      "Epoch 45/100\n",
      "10000/10000 [==============================] - 9s 938us/step - loss: 0.0564 - acc: 0.9911\n",
      "Epoch 46/100\n",
      "10000/10000 [==============================] - 9s 903us/step - loss: 0.0569 - acc: 0.9914\n",
      "Epoch 47/100\n",
      "10000/10000 [==============================] - 10s 950us/step - loss: 0.0566 - acc: 0.9910\n",
      "Epoch 48/100\n",
      "10000/10000 [==============================] - 10s 968us/step - loss: 0.0551 - acc: 0.99211s - loss: 0.0544 - \n",
      "Epoch 49/100\n",
      "10000/10000 [==============================] - 9s 930us/step - loss: 0.0567 - acc: 0.9904 0s - loss: 0.0569 - acc: 0.99\n",
      "Epoch 50/100\n",
      "10000/10000 [==============================] - 10s 988us/step - loss: 0.0552 - acc: 0.9921\n",
      "Epoch 51/100\n",
      "10000/10000 [==============================] - 11s 1ms/step - loss: 0.0571 - acc: 0.9887\n",
      "Epoch 52/100\n",
      "10000/10000 [==============================] - 10s 1ms/step - loss: 0.0549 - acc: 0.9918\n",
      "Epoch 53/100\n",
      "10000/10000 [==============================] - 9s 946us/step - loss: 0.0559 - acc: 0.9914\n",
      "Epoch 54/100\n",
      "10000/10000 [==============================] - 9s 928us/step - loss: 0.0559 - acc: 0.9896\n",
      "Epoch 55/100\n",
      "10000/10000 [==============================] - 10s 1ms/step - loss: 0.0556 - acc: 0.9909\n",
      "Epoch 56/100\n",
      "10000/10000 [==============================] - 10s 988us/step - loss: 0.0560 - acc: 0.9910\n",
      "Epoch 57/100\n",
      "10000/10000 [==============================] - 9s 898us/step - loss: 0.0560 - acc: 0.9909\n",
      "Epoch 58/100\n",
      "10000/10000 [==============================] - 9s 930us/step - loss: 0.0543 - acc: 0.9911\n",
      "Epoch 59/100\n",
      "10000/10000 [==============================] - 10s 998us/step - loss: 0.0555 - acc: 0.9908\n",
      "Epoch 60/100\n",
      "10000/10000 [==============================] - 10s 1ms/step - loss: 0.0548 - acc: 0.9930\n",
      "Epoch 61/100\n",
      "10000/10000 [==============================] - 10s 960us/step - loss: 0.0541 - acc: 0.9924\n",
      "Epoch 62/100\n",
      "10000/10000 [==============================] - 10s 993us/step - loss: 0.0558 - acc: 0.9900\n",
      "Epoch 63/100\n",
      "10000/10000 [==============================] - 10s 1ms/step - loss: 0.0553 - acc: 0.9905\n",
      "Epoch 64/100\n",
      "10000/10000 [==============================] - 11s 1ms/step - loss: 0.0545 - acc: 0.9913\n",
      "Epoch 65/100\n",
      "10000/10000 [==============================] - 13s 1ms/step - loss: 0.0545 - acc: 0.9912\n",
      "Epoch 66/100\n",
      "10000/10000 [==============================] - 11s 1ms/step - loss: 0.0533 - acc: 0.9915\n",
      "Epoch 67/100\n",
      "10000/10000 [==============================] - 10s 992us/step - loss: 0.0546 - acc: 0.99113s - lo\n",
      "Epoch 68/100\n",
      "10000/10000 [==============================] - 9s 930us/step - loss: 0.0534 - acc: 0.9926 1s - loss: 0.053\n",
      "Epoch 69/100\n",
      "10000/10000 [==============================] - 10s 979us/step - loss: 0.0544 - acc: 0.9909\n",
      "Epoch 70/100\n",
      "10000/10000 [==============================] - 10s 987us/step - loss: 0.0536 - acc: 0.9925\n",
      "Epoch 71/100\n",
      "10000/10000 [==============================] - 10s 985us/step - loss: 0.0534 - acc: 0.9912\n",
      "Epoch 72/100\n",
      "10000/10000 [==============================] - 10s 987us/step - loss: 0.0540 - acc: 0.9914\n",
      "Epoch 73/100\n",
      "10000/10000 [==============================] - 9s 942us/step - loss: 0.0532 - acc: 0.9918\n",
      "Epoch 74/100\n",
      "10000/10000 [==============================] - 10s 1ms/step - loss: 0.0532 - acc: 0.9928\n",
      "Epoch 75/100\n",
      "10000/10000 [==============================] - 9s 947us/step - loss: 0.0536 - acc: 0.9919\n",
      "Epoch 76/100\n",
      "10000/10000 [==============================] - 10s 996us/step - loss: 0.0545 - acc: 0.9907\n",
      "Epoch 77/100\n",
      "10000/10000 [==============================] - 10s 970us/step - loss: 0.0530 - acc: 0.9928\n",
      "Epoch 78/100\n"
     ]
    },
    {
     "name": "stdout",
     "output_type": "stream",
     "text": [
      "10000/10000 [==============================] - 10s 1ms/step - loss: 0.0541 - acc: 0.9924\n",
      "Epoch 79/100\n",
      "10000/10000 [==============================] - 10s 991us/step - loss: 0.0522 - acc: 0.9933\n",
      "Epoch 80/100\n",
      "10000/10000 [==============================] - 10s 1ms/step - loss: 0.0531 - acc: 0.9925\n",
      "Epoch 81/100\n",
      "10000/10000 [==============================] - 10s 957us/step - loss: 0.0529 - acc: 0.9942\n",
      "Epoch 82/100\n",
      "10000/10000 [==============================] - 9s 932us/step - loss: 0.0536 - acc: 0.9914\n",
      "Epoch 83/100\n",
      "10000/10000 [==============================] - 9s 911us/step - loss: 0.0531 - acc: 0.9926\n",
      "Epoch 84/100\n",
      "10000/10000 [==============================] - 10s 953us/step - loss: 0.0532 - acc: 0.9922\n",
      "Epoch 85/100\n",
      "10000/10000 [==============================] - 9s 894us/step - loss: 0.0532 - acc: 0.9924\n",
      "Epoch 86/100\n",
      "10000/10000 [==============================] - 10s 953us/step - loss: 0.0525 - acc: 0.9929\n",
      "Epoch 87/100\n",
      "10000/10000 [==============================] - 9s 936us/step - loss: 0.0520 - acc: 0.9922\n",
      "Epoch 88/100\n",
      "10000/10000 [==============================] - 10s 974us/step - loss: 0.0526 - acc: 0.9927\n",
      "Epoch 89/100\n",
      "10000/10000 [==============================] - 9s 934us/step - loss: 0.0525 - acc: 0.9932\n",
      "Epoch 90/100\n",
      "10000/10000 [==============================] - 9s 922us/step - loss: 0.0532 - acc: 0.9922\n",
      "Epoch 91/100\n",
      "10000/10000 [==============================] - 9s 937us/step - loss: 0.0526 - acc: 0.9919\n",
      "Epoch 92/100\n",
      "10000/10000 [==============================] - 9s 910us/step - loss: 0.0518 - acc: 0.9938\n",
      "Epoch 93/100\n",
      "10000/10000 [==============================] - 9s 916us/step - loss: 0.0526 - acc: 0.9921\n",
      "Epoch 94/100\n",
      "10000/10000 [==============================] - 9s 929us/step - loss: 0.0521 - acc: 0.9928\n",
      "Epoch 95/100\n",
      "10000/10000 [==============================] - 9s 905us/step - loss: 0.0522 - acc: 0.9938\n",
      "Epoch 96/100\n",
      "10000/10000 [==============================] - 10s 1ms/step - loss: 0.0521 - acc: 0.9940\n",
      "Epoch 97/100\n",
      "10000/10000 [==============================] - 10s 960us/step - loss: 0.0525 - acc: 0.9921\n",
      "Epoch 98/100\n",
      "10000/10000 [==============================] - 10s 956us/step - loss: 0.0521 - acc: 0.9925\n",
      "Epoch 99/100\n",
      "10000/10000 [==============================] - 10s 987us/step - loss: 0.0515 - acc: 0.9941\n",
      "Epoch 100/100\n",
      "10000/10000 [==============================] - 9s 938us/step - loss: 0.0524 - acc: 0.9929\n"
     ]
    },
    {
     "data": {
      "text/plain": [
       "<keras.callbacks.History at 0x2c01a23d1d0>"
      ]
     },
     "execution_count": 18,
     "metadata": {},
     "output_type": "execute_result"
    }
   ],
   "source": [
    "model.fit(x_train,prediction,\n",
    "                    batch_size = 64,\n",
    "                    epochs = 100,\n",
    "                    verbose=1)"
   ]
  },
  {
   "cell_type": "code",
   "execution_count": 19,
   "metadata": {},
   "outputs": [],
   "source": [
    "model.save('model\\\\shadow1_T_1.h5')"
   ]
  },
  {
   "cell_type": "code",
   "execution_count": 20,
   "metadata": {},
   "outputs": [
    {
     "name": "stdout",
     "output_type": "stream",
     "text": [
      "10000/10000 [==============================] - 5s 547us/step\n",
      "Test loss: 0.11236493171288894\n",
      "Test accuracy: 0.9688\n"
     ]
    }
   ],
   "source": [
    "x_test = x_test.reshape(10000,784)\n",
    "score = model.evaluate(x_test, y_test, verbose=1)\n",
    "print('Test loss:', score[0])\n",
    "print('Test accuracy:', score[1])"
   ]
  },
  {
   "cell_type": "code",
   "execution_count": null,
   "metadata": {},
   "outputs": [],
   "source": []
  }
 ],
 "metadata": {
  "kernelspec": {
   "display_name": "python35",
   "language": "python",
   "name": "python35"
  },
  "language_info": {
   "codemirror_mode": {
    "name": "ipython",
    "version": 3
   },
   "file_extension": ".py",
   "mimetype": "text/x-python",
   "name": "python",
   "nbconvert_exporter": "python",
   "pygments_lexer": "ipython3",
   "version": "3.5.6"
  }
 },
 "nbformat": 4,
 "nbformat_minor": 2
}
