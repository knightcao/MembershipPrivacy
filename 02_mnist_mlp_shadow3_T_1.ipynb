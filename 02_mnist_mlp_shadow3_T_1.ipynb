{
 "cells": [
  {
   "cell_type": "code",
   "execution_count": 1,
   "metadata": {},
   "outputs": [
    {
     "name": "stderr",
     "output_type": "stream",
     "text": [
      "Using TensorFlow backend.\n"
     ]
    }
   ],
   "source": [
    "import keras\n",
    "from keras.datasets import mnist\n",
    "from keras.models import Sequential\n",
    "from keras.layers import Dense, Dropout, Flatten\n",
    "from keras.layers import Conv2D, MaxPooling2D\n",
    "from keras import backend as K\n",
    "from keras.models import load_model  \n",
    "from keras.optimizers import RMSprop"
   ]
  },
  {
   "cell_type": "code",
   "execution_count": 2,
   "metadata": {},
   "outputs": [],
   "source": [
    "batch_size = 128\n",
    "num_classes = 10\n",
    "epochs = 10"
   ]
  },
  {
   "cell_type": "code",
   "execution_count": 3,
   "metadata": {},
   "outputs": [],
   "source": [
    "# input image dimensions\n",
    "img_rows, img_cols = 28, 28"
   ]
  },
  {
   "cell_type": "code",
   "execution_count": 4,
   "metadata": {},
   "outputs": [],
   "source": [
    "# the data, split between train and test sets\n",
    "(x_train, y_train), (x_test, y_test) = mnist.load_data()"
   ]
  },
  {
   "cell_type": "code",
   "execution_count": 5,
   "metadata": {},
   "outputs": [
    {
     "name": "stdout",
     "output_type": "stream",
     "text": [
      "channels_last\n"
     ]
    }
   ],
   "source": [
    "print(K.image_data_format())"
   ]
  },
  {
   "cell_type": "code",
   "execution_count": 6,
   "metadata": {},
   "outputs": [],
   "source": [
    "if K.image_data_format() == 'channels_first':\n",
    "    x_train = x_train.reshape(x_train.shape[0], 1, img_rows, img_cols)\n",
    "    x_test = x_test.reshape(x_test.shape[0], 1, img_rows, img_cols)\n",
    "    input_shape = (1, img_rows, img_cols)\n",
    "else:\n",
    "    x_train = x_train.reshape(x_train.shape[0], img_rows, img_cols, 1)\n",
    "    x_test = x_test.reshape(x_test.shape[0], img_rows, img_cols, 1)\n",
    "input_shape = (img_rows, img_cols, 1)"
   ]
  },
  {
   "cell_type": "code",
   "execution_count": 7,
   "metadata": {},
   "outputs": [
    {
     "name": "stdout",
     "output_type": "stream",
     "text": [
      "x_train shape: (60000, 28, 28, 1)\n",
      "60000 train samples\n",
      "10000 test samples\n"
     ]
    }
   ],
   "source": [
    "x_train = x_train.astype('float32')\n",
    "x_test = x_test.astype('float32')\n",
    "x_train /= 255\n",
    "x_test /= 255\n",
    "print('x_train shape:', x_train.shape)\n",
    "print(x_train.shape[0], 'train samples')\n",
    "print(x_test.shape[0], 'test samples')"
   ]
  },
  {
   "cell_type": "code",
   "execution_count": 8,
   "metadata": {},
   "outputs": [],
   "source": [
    "# convert class vectors to binary class matrices\n",
    "y_train = keras.utils.to_categorical(y_train, num_classes)\n",
    "y_test = keras.utils.to_categorical(y_test, num_classes)"
   ]
  },
  {
   "cell_type": "code",
   "execution_count": 9,
   "metadata": {},
   "outputs": [],
   "source": [
    "start_index = 30000\n",
    "x_train = x_train[start_index:start_index + 10000]\n",
    "y_train = y_train[start_index:start_index + 10000]"
   ]
  },
  {
   "cell_type": "code",
   "execution_count": 10,
   "metadata": {},
   "outputs": [
    {
     "name": "stdout",
     "output_type": "stream",
     "text": [
      "(10000, 28, 28, 1)\n",
      "(10000, 10)\n"
     ]
    }
   ],
   "source": [
    "print(x_train.shape)\n",
    "print(y_train.shape)"
   ]
  },
  {
   "cell_type": "code",
   "execution_count": 11,
   "metadata": {},
   "outputs": [],
   "source": [
    "model_target = load_model('model\\\\model_target.h5')"
   ]
  },
  {
   "cell_type": "code",
   "execution_count": 12,
   "metadata": {},
   "outputs": [
    {
     "name": "stdout",
     "output_type": "stream",
     "text": [
      "10000/10000 [==============================] - 24s 2ms/step\n"
     ]
    }
   ],
   "source": [
    "prediction = model_target.predict(x_train,verbose=1)"
   ]
  },
  {
   "cell_type": "code",
   "execution_count": 13,
   "metadata": {},
   "outputs": [
    {
     "name": "stdout",
     "output_type": "stream",
     "text": [
      "10000/10000 [==============================] - 31s 3ms/step\n",
      "Test loss: 0.079341694672429\n",
      "Test accuracy: 0.9781\n"
     ]
    }
   ],
   "source": [
    "score = model_target.evaluate(x_train, y_train, verbose=1)\n",
    "print('Test loss:', score[0])\n",
    "print('Test accuracy:', score[1])"
   ]
  },
  {
   "cell_type": "code",
   "execution_count": 14,
   "metadata": {},
   "outputs": [
    {
     "name": "stdout",
     "output_type": "stream",
     "text": [
      "[[1.0795870e-09 3.6747178e-08 4.5604903e-08 ... 7.0862988e-08\n",
      "  1.1514995e-07 6.9590430e-07]\n",
      " [3.5951203e-10 4.9010455e-11 1.2289772e-07 ... 9.9999952e-01\n",
      "  1.6683733e-09 3.9767477e-07]\n",
      " [1.4807137e-12 1.3758573e-10 2.9626637e-10 ... 7.6801832e-10\n",
      "  1.6471741e-08 4.3078576e-09]\n",
      " ...\n",
      " [7.6325250e-07 8.6888002e-10 1.4257325e-08 ... 5.1371061e-04\n",
      "  4.8080815e-06 9.9941576e-01]\n",
      " [6.5108128e-09 1.8397767e-08 1.2647083e-10 ... 1.3152023e-05\n",
      "  4.4788017e-08 9.9906439e-01]\n",
      " [8.6571017e-06 3.6724074e-08 1.5390145e-06 ... 1.4815676e-07\n",
      "  7.6651240e-06 1.0553204e-07]]\n",
      "(10000, 10)\n"
     ]
    }
   ],
   "source": [
    "print(prediction)\n",
    "print(prediction.shape)"
   ]
  },
  {
   "cell_type": "code",
   "execution_count": null,
   "metadata": {},
   "outputs": [],
   "source": []
  },
  {
   "cell_type": "code",
   "execution_count": 15,
   "metadata": {},
   "outputs": [],
   "source": [
    "model = Sequential()\n",
    "model.add(Dense(512, activation='relu', input_shape = (784,)))\n",
    "model.add(Dropout(0.2))\n",
    "model.add(Dense(512, activation='relu'))\n",
    "model.add(Dropout(0.2))\n",
    "model.add(Dense(10,activation='softmax'))"
   ]
  },
  {
   "cell_type": "code",
   "execution_count": 16,
   "metadata": {},
   "outputs": [],
   "source": [
    "model.compile(loss = 'categorical_crossentropy',\n",
    "              optimizer = RMSprop(),\n",
    "              metrics = ['accuracy'])"
   ]
  },
  {
   "cell_type": "code",
   "execution_count": 17,
   "metadata": {
    "scrolled": true
   },
   "outputs": [],
   "source": [
    "x_train = x_train.reshape(10000,784)"
   ]
  },
  {
   "cell_type": "code",
   "execution_count": 18,
   "metadata": {
    "scrolled": true
   },
   "outputs": [
    {
     "name": "stdout",
     "output_type": "stream",
     "text": [
      "Epoch 1/100\n",
      "10000/10000 [==============================] - 16s 2ms/step - loss: 0.4563 - acc: 0.8563\n",
      "Epoch 2/100\n",
      "10000/10000 [==============================] - 9s 863us/step - loss: 0.1864 - acc: 0.9428\n",
      "Epoch 3/100\n",
      "10000/10000 [==============================] - 9s 856us/step - loss: 0.1315 - acc: 0.9629\n",
      "Epoch 4/100\n",
      "10000/10000 [==============================] - 10s 981us/step - loss: 0.1099 - acc: 0.9711\n",
      "Epoch 5/100\n",
      "10000/10000 [==============================] - 9s 924us/step - loss: 0.0961 - acc: 0.9776\n",
      "Epoch 6/100\n",
      "10000/10000 [==============================] - 8s 757us/step - loss: 0.0900 - acc: 0.9797\n",
      "Epoch 7/100\n",
      "10000/10000 [==============================] - 8s 768us/step - loss: 0.0863 - acc: 0.9805\n",
      "Epoch 8/100\n",
      "10000/10000 [==============================] - 8s 841us/step - loss: 0.0806 - acc: 0.9840\n",
      "Epoch 9/100\n",
      "10000/10000 [==============================] - 10s 952us/step - loss: 0.0757 - acc: 0.9840\n",
      "Epoch 10/100\n",
      "10000/10000 [==============================] - 10s 1ms/step - loss: 0.0774 - acc: 0.9837:\n",
      "Epoch 11/100\n",
      "10000/10000 [==============================] - 10s 1ms/step - loss: 0.0730 - acc: 0.9859\n",
      "Epoch 12/100\n",
      "10000/10000 [==============================] - 10s 951us/step - loss: 0.0717 - acc: 0.9852\n",
      "Epoch 13/100\n",
      "10000/10000 [==============================] - 10s 964us/step - loss: 0.0706 - acc: 0.9858\n",
      "Epoch 14/100\n",
      "10000/10000 [==============================] - 10s 987us/step - loss: 0.0685 - acc: 0.9872\n",
      "Epoch 15/100\n",
      "10000/10000 [==============================] - 10s 1ms/step - loss: 0.0673 - acc: 0.9868- ETA: 1s - loss: 0.0660\n",
      "Epoch 16/100\n",
      "10000/10000 [==============================] - 10s 1ms/step - loss: 0.0668 - acc: 0.9890: 3s -\n",
      "Epoch 17/100\n",
      "10000/10000 [==============================] - 10s 953us/step - loss: 0.0672 - acc: 0.98630s - loss: 0.0657 - acc: 0.9\n",
      "Epoch 18/100\n",
      "10000/10000 [==============================] - 11s 1ms/step - loss: 0.0652 - acc: 0.9878\n",
      "Epoch 19/100\n",
      "10000/10000 [==============================] - 10s 960us/step - loss: 0.0641 - acc: 0.9880\n",
      "Epoch 20/100\n",
      "10000/10000 [==============================] - 10s 985us/step - loss: 0.0617 - acc: 0.9897\n",
      "Epoch 21/100\n",
      "10000/10000 [==============================] - 10s 1ms/step - loss: 0.0653 - acc: 0.9861\n",
      "Epoch 22/100\n",
      "10000/10000 [==============================] - 9s 931us/step - loss: 0.0641 - acc: 0.9887\n",
      "Epoch 23/100\n",
      "10000/10000 [==============================] - 9s 939us/step - loss: 0.0633 - acc: 0.9855\n",
      "Epoch 24/100\n",
      "10000/10000 [==============================] - 9s 942us/step - loss: 0.0604 - acc: 0.9909\n",
      "Epoch 25/100\n",
      "10000/10000 [==============================] - 9s 922us/step - loss: 0.0620 - acc: 0.9892\n",
      "Epoch 26/100\n",
      "10000/10000 [==============================] - 9s 938us/step - loss: 0.0613 - acc: 0.9893\n",
      "Epoch 27/100\n",
      "10000/10000 [==============================] - 9s 901us/step - loss: 0.0617 - acc: 0.9877\n",
      "Epoch 28/100\n",
      "10000/10000 [==============================] - 10s 966us/step - loss: 0.0607 - acc: 0.9886\n",
      "Epoch 29/100\n",
      "10000/10000 [==============================] - 9s 909us/step - loss: 0.0594 - acc: 0.9889\n",
      "Epoch 30/100\n",
      "10000/10000 [==============================] - 9s 939us/step - loss: 0.0608 - acc: 0.9886\n",
      "Epoch 31/100\n",
      "10000/10000 [==============================] - 9s 940us/step - loss: 0.0600 - acc: 0.9887\n",
      "Epoch 32/100\n",
      "10000/10000 [==============================] - 9s 911us/step - loss: 0.0607 - acc: 0.9889\n",
      "Epoch 33/100\n",
      "10000/10000 [==============================] - 10s 973us/step - loss: 0.0597 - acc: 0.9887\n",
      "Epoch 34/100\n",
      "10000/10000 [==============================] - 9s 924us/step - loss: 0.0580 - acc: 0.9881\n",
      "Epoch 35/100\n",
      "10000/10000 [==============================] - 9s 942us/step - loss: 0.0581 - acc: 0.9903\n",
      "Epoch 36/100\n",
      "10000/10000 [==============================] - 9s 911us/step - loss: 0.0577 - acc: 0.9898 7s - loss\n",
      "Epoch 37/100\n",
      "10000/10000 [==============================] - 10s 960us/step - loss: 0.0584 - acc: 0.9899\n",
      "Epoch 38/100\n",
      "10000/10000 [==============================] - 10s 958us/step - loss: 0.0580 - acc: 0.9893\n",
      "Epoch 39/100\n",
      "10000/10000 [==============================] - 10s 962us/step - loss: 0.0582 - acc: 0.98942s - loss\n",
      "Epoch 40/100\n",
      "10000/10000 [==============================] - 9s 903us/step - loss: 0.0591 - acc: 0.9873 2s - loss: 0.\n",
      "Epoch 41/100\n",
      "10000/10000 [==============================] - 9s 915us/step - loss: 0.0575 - acc: 0.9897\n",
      "Epoch 42/100\n",
      "10000/10000 [==============================] - 10s 1ms/step - loss: 0.0576 - acc: 0.9898\n",
      "Epoch 43/100\n",
      "10000/10000 [==============================] - 9s 946us/step - loss: 0.0577 - acc: 0.9895\n",
      "Epoch 44/100\n",
      "10000/10000 [==============================] - 10s 1ms/step - loss: 0.0559 - acc: 0.9915: 1s - loss: 0.0547 - \n",
      "Epoch 45/100\n",
      "10000/10000 [==============================] - 10s 1ms/step - loss: 0.0562 - acc: 0.9903\n",
      "Epoch 46/100\n",
      "10000/10000 [==============================] - 10s 994us/step - loss: 0.0557 - acc: 0.9910\n",
      "Epoch 47/100\n",
      "10000/10000 [==============================] - 10s 956us/step - loss: 0.0558 - acc: 0.9913\n",
      "Epoch 48/100\n",
      "10000/10000 [==============================] - 9s 902us/step - loss: 0.0569 - acc: 0.9891\n",
      "Epoch 49/100\n",
      "10000/10000 [==============================] - 10s 957us/step - loss: 0.0562 - acc: 0.9906\n",
      "Epoch 50/100\n",
      "10000/10000 [==============================] - 10s 963us/step - loss: 0.0559 - acc: 0.9899\n",
      "Epoch 51/100\n",
      "10000/10000 [==============================] - 9s 925us/step - loss: 0.0557 - acc: 0.9918\n",
      "Epoch 52/100\n",
      "10000/10000 [==============================] - 9s 930us/step - loss: 0.0561 - acc: 0.9903\n",
      "Epoch 53/100\n",
      "10000/10000 [==============================] - 9s 942us/step - loss: 0.0558 - acc: 0.9904\n",
      "Epoch 54/100\n",
      "10000/10000 [==============================] - 9s 895us/step - loss: 0.0555 - acc: 0.9918\n",
      "Epoch 55/100\n",
      "10000/10000 [==============================] - 10s 999us/step - loss: 0.0545 - acc: 0.9904\n",
      "Epoch 56/100\n",
      "10000/10000 [==============================] - 9s 907us/step - loss: 0.0541 - acc: 0.9917\n",
      "Epoch 57/100\n",
      "10000/10000 [==============================] - 9s 929us/step - loss: 0.0561 - acc: 0.9894\n",
      "Epoch 58/100\n",
      "10000/10000 [==============================] - 10s 1ms/step - loss: 0.0553 - acc: 0.9918\n",
      "Epoch 59/100\n",
      "10000/10000 [==============================] - 10s 1ms/step - loss: 0.0551 - acc: 0.9899\n",
      "Epoch 60/100\n",
      "10000/10000 [==============================] - 13s 1ms/step - loss: 0.0545 - acc: 0.9921\n",
      "Epoch 61/100\n",
      "10000/10000 [==============================] - 11s 1ms/step - loss: 0.0550 - acc: 0.9913: 1s - loss: 0.0555 - a\n",
      "Epoch 62/100\n",
      "10000/10000 [==============================] - 9s 895us/step - loss: 0.0540 - acc: 0.9912\n",
      "Epoch 63/100\n",
      "10000/10000 [==============================] - 9s 909us/step - loss: 0.0540 - acc: 0.9927\n",
      "Epoch 64/100\n",
      "10000/10000 [==============================] - 9s 928us/step - loss: 0.0545 - acc: 0.9901\n",
      "Epoch 65/100\n",
      "10000/10000 [==============================] - 9s 879us/step - loss: 0.0538 - acc: 0.9915 1s - loss: 0.0526 - \n",
      "Epoch 66/100\n",
      "10000/10000 [==============================] - 9s 946us/step - loss: 0.0539 - acc: 0.9898\n",
      "Epoch 67/100\n",
      "10000/10000 [==============================] - 9s 945us/step - loss: 0.0537 - acc: 0.9925\n",
      "Epoch 68/100\n",
      "10000/10000 [==============================] - 10s 985us/step - loss: 0.0537 - acc: 0.9901\n",
      "Epoch 69/100\n",
      "10000/10000 [==============================] - 9s 888us/step - loss: 0.0543 - acc: 0.9912\n",
      "Epoch 70/100\n",
      "10000/10000 [==============================] - 10s 967us/step - loss: 0.0535 - acc: 0.9929\n",
      "Epoch 71/100\n",
      "10000/10000 [==============================] - 9s 925us/step - loss: 0.0538 - acc: 0.9913\n",
      "Epoch 72/100\n",
      "10000/10000 [==============================] - 9s 943us/step - loss: 0.0538 - acc: 0.9913\n",
      "Epoch 73/100\n",
      "10000/10000 [==============================] - 9s 947us/step - loss: 0.0544 - acc: 0.9916 2s - loss: 0\n",
      "Epoch 74/100\n",
      "10000/10000 [==============================] - 9s 931us/step - loss: 0.0534 - acc: 0.9914\n",
      "Epoch 75/100\n",
      "10000/10000 [==============================] - 10s 963us/step - loss: 0.0536 - acc: 0.9915\n",
      "Epoch 76/100\n",
      "10000/10000 [==============================] - 9s 930us/step - loss: 0.0532 - acc: 0.9918\n",
      "Epoch 77/100\n",
      "10000/10000 [==============================] - 9s 902us/step - loss: 0.0529 - acc: 0.9908\n",
      "Epoch 78/100\n"
     ]
    },
    {
     "name": "stdout",
     "output_type": "stream",
     "text": [
      "10000/10000 [==============================] - 9s 906us/step - loss: 0.0534 - acc: 0.9909\n",
      "Epoch 79/100\n",
      "10000/10000 [==============================] - 9s 935us/step - loss: 0.0531 - acc: 0.9914\n",
      "Epoch 80/100\n",
      "10000/10000 [==============================] - 10s 956us/step - loss: 0.0532 - acc: 0.9917\n",
      "Epoch 81/100\n",
      "10000/10000 [==============================] - 10s 962us/step - loss: 0.0526 - acc: 0.99141s - loss: 0.0538 -\n",
      "Epoch 82/100\n",
      "10000/10000 [==============================] - 9s 889us/step - loss: 0.0530 - acc: 0.9912\n",
      "Epoch 83/100\n",
      "10000/10000 [==============================] - 10s 973us/step - loss: 0.0529 - acc: 0.9931\n",
      "Epoch 84/100\n",
      "10000/10000 [==============================] - 9s 926us/step - loss: 0.0532 - acc: 0.9919\n",
      "Epoch 85/100\n",
      "10000/10000 [==============================] - 9s 936us/step - loss: 0.0523 - acc: 0.9919\n",
      "Epoch 86/100\n",
      "10000/10000 [==============================] - 10s 970us/step - loss: 0.0527 - acc: 0.9932\n",
      "Epoch 87/100\n",
      "10000/10000 [==============================] - 10s 954us/step - loss: 0.0521 - acc: 0.9921\n",
      "Epoch 88/100\n",
      "10000/10000 [==============================] - 10s 954us/step - loss: 0.0533 - acc: 0.9909\n",
      "Epoch 89/100\n",
      "10000/10000 [==============================] - 9s 943us/step - loss: 0.0523 - acc: 0.9926\n",
      "Epoch 90/100\n",
      "10000/10000 [==============================] - 10s 983us/step - loss: 0.0525 - acc: 0.9926\n",
      "Epoch 91/100\n",
      "10000/10000 [==============================] - 9s 906us/step - loss: 0.0532 - acc: 0.9896\n",
      "Epoch 92/100\n",
      "10000/10000 [==============================] - 9s 898us/step - loss: 0.0517 - acc: 0.9929\n",
      "Epoch 93/100\n",
      "10000/10000 [==============================] - 9s 931us/step - loss: 0.0524 - acc: 0.9924\n",
      "Epoch 94/100\n",
      "10000/10000 [==============================] - 9s 930us/step - loss: 0.0519 - acc: 0.9922 1s - loss: 0.0527 - acc\n",
      "Epoch 95/100\n",
      "10000/10000 [==============================] - 9s 909us/step - loss: 0.0522 - acc: 0.9929\n",
      "Epoch 96/100\n",
      "10000/10000 [==============================] - 9s 872us/step - loss: 0.0524 - acc: 0.9920\n",
      "Epoch 97/100\n",
      "10000/10000 [==============================] - 8s 767us/step - loss: 0.0525 - acc: 0.9928\n",
      "Epoch 98/100\n",
      "10000/10000 [==============================] - 8s 770us/step - loss: 0.0520 - acc: 0.9924\n",
      "Epoch 99/100\n",
      "10000/10000 [==============================] - 7s 742us/step - loss: 0.0520 - acc: 0.9927\n",
      "Epoch 100/100\n",
      "10000/10000 [==============================] - 8s 781us/step - loss: 0.0524 - acc: 0.9930\n"
     ]
    },
    {
     "data": {
      "text/plain": [
       "<keras.callbacks.History at 0x2026728d080>"
      ]
     },
     "execution_count": 18,
     "metadata": {},
     "output_type": "execute_result"
    }
   ],
   "source": [
    "model.fit(x_train,prediction,\n",
    "                    batch_size = 64,\n",
    "                    epochs = 100,\n",
    "                    verbose=1)"
   ]
  },
  {
   "cell_type": "code",
   "execution_count": 19,
   "metadata": {},
   "outputs": [],
   "source": [
    "model.save('model\\\\shadow3_T_1.h5')"
   ]
  },
  {
   "cell_type": "code",
   "execution_count": 20,
   "metadata": {},
   "outputs": [
    {
     "name": "stdout",
     "output_type": "stream",
     "text": [
      "10000/10000 [==============================] - 4s 414us/step\n",
      "Test loss: 0.10424828019758861\n",
      "Test accuracy: 0.9701\n"
     ]
    }
   ],
   "source": [
    "x_test = x_test.reshape(10000,784)\n",
    "score = model.evaluate(x_test, y_test, verbose=1)\n",
    "print('Test loss:', score[0])\n",
    "print('Test accuracy:', score[1])"
   ]
  },
  {
   "cell_type": "code",
   "execution_count": null,
   "metadata": {},
   "outputs": [],
   "source": []
  }
 ],
 "metadata": {
  "kernelspec": {
   "display_name": "python35",
   "language": "python",
   "name": "python35"
  },
  "language_info": {
   "codemirror_mode": {
    "name": "ipython",
    "version": 3
   },
   "file_extension": ".py",
   "mimetype": "text/x-python",
   "name": "python",
   "nbconvert_exporter": "python",
   "pygments_lexer": "ipython3",
   "version": "3.5.6"
  }
 },
 "nbformat": 4,
 "nbformat_minor": 2
}
