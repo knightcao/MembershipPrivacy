{
 "cells": [
  {
   "cell_type": "code",
   "execution_count": 1,
   "metadata": {},
   "outputs": [
    {
     "name": "stderr",
     "output_type": "stream",
     "text": [
      "Using TensorFlow backend.\n"
     ]
    }
   ],
   "source": [
    "import keras\n",
    "from keras.datasets import mnist\n",
    "from keras.models import Sequential\n",
    "from keras.layers import Dense,Dropout\n",
    "from keras.optimizers import RMSprop\n",
    "from keras.models import load_model\n",
    "import csv\n",
    "import numpy as np"
   ]
  },
  {
   "cell_type": "code",
   "execution_count": 2,
   "metadata": {},
   "outputs": [],
   "source": [
    "shadow_train_files = ['test_shadow1.csv','test_shadow2.csv','test_shadow3.csv','test_shadow4.csv']"
   ]
  },
  {
   "cell_type": "code",
   "execution_count": 3,
   "metadata": {},
   "outputs": [],
   "source": [
    "def load_shadow_train_data(shadow_train_files):\n",
    "    shadow_train_x = []\n",
    "    shadow_train_y = []\n",
    "    for i in range(0,len(shadow_train_files)):\n",
    "        \n",
    "        shadow_train_sub = np.loadtxt('model\\\\'+shadow_train_files[i],delimiter=',')\n",
    "        shadow_train_sub_x = shadow_train_sub[:,0:10]\n",
    "        shadow_train_sub_y = shadow_train_sub[:,10]\n",
    "        shadow_train_sub_x = shadow_train_sub_x.reshape(-1,10)[i*2000:i*2000+4000]\n",
    "        shadow_train_sub_y = shadow_train_sub_y.reshape(-1,1)[i*2000:i*2000+4000]\n",
    "        \n",
    "        if i == 0:\n",
    "            shadow_train_x = shadow_train_sub_x\n",
    "            shadow_train_y = shadow_train_sub_y\n",
    "        else:\n",
    "            shadow_train_x = np.concatenate((shadow_train_x,shadow_train_sub_x), axis=0)\n",
    "            shadow_train_y = np.concatenate((shadow_train_y,shadow_train_sub_y), axis=0)\n",
    "    return shadow_train_x,shadow_train_y"
   ]
  },
  {
   "cell_type": "code",
   "execution_count": 4,
   "metadata": {},
   "outputs": [],
   "source": [
    "shadow_train_x,shadow_train_y = load_shadow_train_data(shadow_train_files)"
   ]
  },
  {
   "cell_type": "code",
   "execution_count": 5,
   "metadata": {},
   "outputs": [
    {
     "name": "stdout",
     "output_type": "stream",
     "text": [
      "(16000, 10)\n",
      "(16000, 1)\n"
     ]
    }
   ],
   "source": [
    "print(shadow_train_x.shape)\n",
    "print(shadow_train_y.shape)"
   ]
  },
  {
   "cell_type": "code",
   "execution_count": 6,
   "metadata": {},
   "outputs": [
    {
     "name": "stdout",
     "output_type": "stream",
     "text": [
      "(8000, 10)\n",
      "(8000, 1)\n"
     ]
    }
   ],
   "source": [
    "shadow_test = np.loadtxt('model\\\\test_shadow5.csv',delimiter=',')\n",
    "shadow_test_x = shadow_test[:,0:10]\n",
    "shadow_test_y = shadow_test[:,10]\n",
    "shadow_test_x = shadow_test_x.reshape(-1,10)[6000:14000]\n",
    "shadow_test_y = shadow_test_y.reshape(-1,1)[6000:14000]\n",
    "print(shadow_test_x.shape)\n",
    "print(shadow_test_y.shape)"
   ]
  },
  {
   "cell_type": "code",
   "execution_count": 7,
   "metadata": {},
   "outputs": [],
   "source": [
    "model = Sequential()\n",
    "model.add(Dense(16, input_dim=10, activation='relu')) #把dense=1改为20\n",
    "model.add(Dropout(0.5))\n",
    "model.add(Dense(8,activation='relu')) #没有input 表示隐层神经元\n",
    "model.add(Dropout(0.5))\n",
    "model.add(Dense(1,activation='sigmoid')) #输出1维，表示是输出层神经元"
   ]
  },
  {
   "cell_type": "code",
   "execution_count": 8,
   "metadata": {},
   "outputs": [],
   "source": [
    "model.compile(loss='binary_crossentropy',\n",
    "             optimizer=RMSprop(),\n",
    "             metrics=['accuracy'])"
   ]
  },
  {
   "cell_type": "code",
   "execution_count": 9,
   "metadata": {},
   "outputs": [
    {
     "name": "stderr",
     "output_type": "stream",
     "text": [
      "D:\\Anaconda3\\envs\\python35\\lib\\site-packages\\ipykernel_launcher.py:1: UserWarning: The `nb_epoch` argument in `fit` has been renamed `epochs`.\n",
      "  \"\"\"Entry point for launching an IPython kernel.\n"
     ]
    },
    {
     "name": "stdout",
     "output_type": "stream",
     "text": [
      "Epoch 1/10\n",
      "16000/16000 [==============================] - 0s 29us/step - loss: 0.6964 - acc: 0.4918\n",
      "Epoch 2/10\n",
      "16000/16000 [==============================] - 0s 15us/step - loss: 0.6940 - acc: 0.5000\n",
      "Epoch 3/10\n",
      "16000/16000 [==============================] - 0s 16us/step - loss: 0.6936 - acc: 0.4999\n",
      "Epoch 4/10\n",
      "16000/16000 [==============================] - 0s 15us/step - loss: 0.6936 - acc: 0.4964\n",
      "Epoch 5/10\n",
      "16000/16000 [==============================] - 0s 14us/step - loss: 0.6932 - acc: 0.5034\n",
      "Epoch 6/10\n",
      "16000/16000 [==============================] - 0s 14us/step - loss: 0.6930 - acc: 0.5038\n",
      "Epoch 7/10\n",
      "16000/16000 [==============================] - 0s 17us/step - loss: 0.6934 - acc: 0.5018\n",
      "Epoch 8/10\n",
      "16000/16000 [==============================] - 0s 14us/step - loss: 0.6933 - acc: 0.4960\n",
      "Epoch 9/10\n",
      "16000/16000 [==============================] - 0s 14us/step - loss: 0.6931 - acc: 0.5016\n",
      "Epoch 10/10\n",
      "16000/16000 [==============================] - 0s 14us/step - loss: 0.6931 - acc: 0.4972\n"
     ]
    }
   ],
   "source": [
    "history = model.fit(shadow_train_x, shadow_train_y,nb_epoch=10, batch_size=64,verbose=1)"
   ]
  },
  {
   "cell_type": "code",
   "execution_count": 10,
   "metadata": {},
   "outputs": [],
   "source": [
    "# history = model.fit(shadow_train_x, shadow_train_y,nb_epoch=10, batch_size=64,verbose=1,\n",
    "#                     validation_data=(x_test,y_test))"
   ]
  },
  {
   "cell_type": "code",
   "execution_count": 11,
   "metadata": {},
   "outputs": [
    {
     "name": "stdout",
     "output_type": "stream",
     "text": [
      "8000/8000 [==============================] - 0s 12us/step\n"
     ]
    }
   ],
   "source": [
    "score = model.evaluate(shadow_test_x, shadow_test_y,batch_size=64, verbose=1)"
   ]
  },
  {
   "cell_type": "code",
   "execution_count": 12,
   "metadata": {},
   "outputs": [
    {
     "name": "stdout",
     "output_type": "stream",
     "text": [
      "Test score: 0.6935012903213501\n",
      "Test accuracy: 0.563\n"
     ]
    }
   ],
   "source": [
    "print('Test score:', score[0])\n",
    "print('Test accuracy:', score[1])"
   ]
  },
  {
   "cell_type": "code",
   "execution_count": 13,
   "metadata": {},
   "outputs": [],
   "source": [
    "predictions = model.predict_classes(shadow_test_x)"
   ]
  },
  {
   "cell_type": "code",
   "execution_count": 14,
   "metadata": {},
   "outputs": [
    {
     "name": "stdout",
     "output_type": "stream",
     "text": [
      "[[0]\n",
      " [0]\n",
      " [0]\n",
      " ...\n",
      " [0]\n",
      " [1]\n",
      " [1]]\n"
     ]
    }
   ],
   "source": [
    "print(predictions)"
   ]
  },
  {
   "cell_type": "code",
   "execution_count": 15,
   "metadata": {},
   "outputs": [],
   "source": [
    "import matplotlib.pyplot as plt"
   ]
  },
  {
   "cell_type": "code",
   "execution_count": 16,
   "metadata": {
    "scrolled": true
   },
   "outputs": [
    {
     "data": {
      "text/plain": [
       "[<matplotlib.lines.Line2D at 0x174d6d6b710>]"
      ]
     },
     "execution_count": 16,
     "metadata": {},
     "output_type": "execute_result"
    },
    {
     "data": {
      "image/png": "[encoded data removed]",
      "text/plain": [
       "<Figure size 432x288 with 1 Axes>"
      ]
     },
     "metadata": {
      "needs_background": "light"
     },
     "output_type": "display_data"
    }
   ],
   "source": [
    "plt.plot(predictions)"
   ]
  },
  {
   "cell_type": "code",
   "execution_count": 18,
   "metadata": {},
   "outputs": [],
   "source": [
    "model.save('model\\\\attack_model.h5')"
   ]
  },
  {
   "cell_type": "code",
   "execution_count": null,
   "metadata": {},
   "outputs": [],
   "source": []
  }
 ],
 "metadata": {
  "kernelspec": {
   "display_name": "python35",
   "language": "python",
   "name": "python35"
  },
  "language_info": {
   "codemirror_mode": {
    "name": "ipython",
    "version": 3
   },
   "file_extension": ".py",
   "mimetype": "text/x-python",
   "name": "python",
   "nbconvert_exporter": "python",
   "pygments_lexer": "ipython3",
   "version": "3.5.6"
  }
 },
 "nbformat": 4,
 "nbformat_minor": 2
}
