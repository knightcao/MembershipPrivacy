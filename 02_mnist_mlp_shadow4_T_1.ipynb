{
 "cells": [
  {
   "cell_type": "code",
   "execution_count": 1,
   "metadata": {},
   "outputs": [
    {
     "name": "stderr",
     "output_type": "stream",
     "text": [
      "Using TensorFlow backend.\n"
     ]
    }
   ],
   "source": [
    "import keras\n",
    "from keras.datasets import mnist\n",
    "from keras.models import Sequential\n",
    "from keras.layers import Dense, Dropout, Flatten\n",
    "from keras.layers import Conv2D, MaxPooling2D\n",
    "from keras import backend as K\n",
    "from keras.models import load_model  \n",
    "from keras.optimizers import RMSprop"
   ]
  },
  {
   "cell_type": "code",
   "execution_count": 2,
   "metadata": {},
   "outputs": [],
   "source": [
    "batch_size = 128\n",
    "num_classes = 10\n",
    "epochs = 10"
   ]
  },
  {
   "cell_type": "code",
   "execution_count": 3,
   "metadata": {},
   "outputs": [],
   "source": [
    "# input image dimensions\n",
    "img_rows, img_cols = 28, 28"
   ]
  },
  {
   "cell_type": "code",
   "execution_count": 4,
   "metadata": {},
   "outputs": [],
   "source": [
    "# the data, split between train and test sets\n",
    "(x_train, y_train), (x_test, y_test) = mnist.load_data()"
   ]
  },
  {
   "cell_type": "code",
   "execution_count": 5,
   "metadata": {},
   "outputs": [
    {
     "name": "stdout",
     "output_type": "stream",
     "text": [
      "channels_last\n"
     ]
    }
   ],
   "source": [
    "print(K.image_data_format())"
   ]
  },
  {
   "cell_type": "code",
   "execution_count": 6,
   "metadata": {},
   "outputs": [],
   "source": [
    "if K.image_data_format() == 'channels_first':\n",
    "    x_train = x_train.reshape(x_train.shape[0], 1, img_rows, img_cols)\n",
    "    x_test = x_test.reshape(x_test.shape[0], 1, img_rows, img_cols)\n",
    "    input_shape = (1, img_rows, img_cols)\n",
    "else:\n",
    "    x_train = x_train.reshape(x_train.shape[0], img_rows, img_cols, 1)\n",
    "    x_test = x_test.reshape(x_test.shape[0], img_rows, img_cols, 1)\n",
    "input_shape = (img_rows, img_cols, 1)"
   ]
  },
  {
   "cell_type": "code",
   "execution_count": 7,
   "metadata": {},
   "outputs": [
    {
     "name": "stdout",
     "output_type": "stream",
     "text": [
      "x_train shape: (60000, 28, 28, 1)\n",
      "60000 train samples\n",
      "10000 test samples\n"
     ]
    }
   ],
   "source": [
    "x_train = x_train.astype('float32')\n",
    "x_test = x_test.astype('float32')\n",
    "x_train /= 255\n",
    "x_test /= 255\n",
    "print('x_train shape:', x_train.shape)\n",
    "print(x_train.shape[0], 'train samples')\n",
    "print(x_test.shape[0], 'test samples')"
   ]
  },
  {
   "cell_type": "code",
   "execution_count": 8,
   "metadata": {},
   "outputs": [],
   "source": [
    "# convert class vectors to binary class matrices\n",
    "y_train = keras.utils.to_categorical(y_train, num_classes)\n",
    "y_test = keras.utils.to_categorical(y_test, num_classes)"
   ]
  },
  {
   "cell_type": "code",
   "execution_count": 9,
   "metadata": {},
   "outputs": [],
   "source": [
    "start_index = 40000\n",
    "x_train = x_train[start_index:start_index + 10000]\n",
    "y_train = y_train[start_index:start_index + 10000]"
   ]
  },
  {
   "cell_type": "code",
   "execution_count": 10,
   "metadata": {},
   "outputs": [
    {
     "name": "stdout",
     "output_type": "stream",
     "text": [
      "(10000, 28, 28, 1)\n",
      "(10000, 10)\n"
     ]
    }
   ],
   "source": [
    "print(x_train.shape)\n",
    "print(y_train.shape)"
   ]
  },
  {
   "cell_type": "code",
   "execution_count": 11,
   "metadata": {},
   "outputs": [],
   "source": [
    "model_target = load_model('model\\\\model_target.h5')"
   ]
  },
  {
   "cell_type": "code",
   "execution_count": 12,
   "metadata": {},
   "outputs": [
    {
     "name": "stdout",
     "output_type": "stream",
     "text": [
      "10000/10000 [==============================] - 30s 3ms/step\n"
     ]
    }
   ],
   "source": [
    "prediction = model_target.predict(x_train,verbose=1)"
   ]
  },
  {
   "cell_type": "code",
   "execution_count": 13,
   "metadata": {},
   "outputs": [
    {
     "name": "stdout",
     "output_type": "stream",
     "text": [
      "10000/10000 [==============================] - 30s 3ms/step\n",
      "Test loss: 0.08366715109564829\n",
      "Test accuracy: 0.9767\n"
     ]
    }
   ],
   "source": [
    "score = model_target.evaluate(x_train, y_train, verbose=1)\n",
    "print('Test loss:', score[0])\n",
    "print('Test accuracy:', score[1])"
   ]
  },
  {
   "cell_type": "code",
   "execution_count": 14,
   "metadata": {},
   "outputs": [
    {
     "name": "stdout",
     "output_type": "stream",
     "text": [
      "[[4.58735228e-09 3.59120449e-08 6.93126140e-07 ... 9.99973059e-01\n",
      "  1.48716211e-07 2.47736880e-05]\n",
      " [1.39502617e-06 3.40698847e-08 1.46247672e-08 ... 9.99758661e-01\n",
      "  4.95761192e-08 2.39311878e-04]\n",
      " [9.99997973e-01 5.76847901e-12 5.26796207e-08 ... 4.53361437e-09\n",
      "  5.23425683e-07 1.60182765e-06]\n",
      " ...\n",
      " [1.52685224e-08 4.65024158e-07 1.77591464e-05 ... 4.60284582e-07\n",
      "  9.99981165e-01 2.43757126e-09]\n",
      " [8.70244821e-06 2.91008610e-06 1.42257841e-06 ... 5.26447184e-06\n",
      "  3.36511948e-06 1.15539166e-04]\n",
      " [1.16183330e-08 1.07658409e-04 4.52321319e-06 ... 2.82227393e-06\n",
      "  9.99883533e-01 2.88478191e-07]]\n",
      "(10000, 10)\n"
     ]
    }
   ],
   "source": [
    "print(prediction)\n",
    "print(prediction.shape)"
   ]
  },
  {
   "cell_type": "code",
   "execution_count": null,
   "metadata": {},
   "outputs": [],
   "source": []
  },
  {
   "cell_type": "code",
   "execution_count": 15,
   "metadata": {},
   "outputs": [],
   "source": [
    "model = Sequential()\n",
    "model.add(Dense(512, activation='relu', input_shape = (784,)))\n",
    "model.add(Dropout(0.2))\n",
    "model.add(Dense(512, activation='relu'))\n",
    "model.add(Dropout(0.2))\n",
    "model.add(Dense(10,activation='softmax'))"
   ]
  },
  {
   "cell_type": "code",
   "execution_count": 16,
   "metadata": {},
   "outputs": [],
   "source": [
    "model.compile(loss = 'categorical_crossentropy',\n",
    "              optimizer = RMSprop(),\n",
    "              metrics = ['accuracy'])"
   ]
  },
  {
   "cell_type": "code",
   "execution_count": 17,
   "metadata": {
    "scrolled": true
   },
   "outputs": [],
   "source": [
    "x_train = x_train.reshape(10000,784)"
   ]
  },
  {
   "cell_type": "code",
   "execution_count": 18,
   "metadata": {
    "scrolled": true
   },
   "outputs": [
    {
     "name": "stdout",
     "output_type": "stream",
     "text": [
      "Epoch 1/100\n",
      "10000/10000 [==============================] - 18s 2ms/step - loss: 0.4535 - acc: 0.8581\n",
      "Epoch 2/100\n",
      "10000/10000 [==============================] - 10s 975us/step - loss: 0.1931 - acc: 0.9422\n",
      "Epoch 3/100\n",
      "10000/10000 [==============================] - 8s 845us/step - loss: 0.1415 - acc: 0.9609\n",
      "Epoch 4/100\n",
      "10000/10000 [==============================] - 8s 821us/step - loss: 0.1149 - acc: 0.9729 \n",
      "Epoch 5/100\n",
      "10000/10000 [==============================] - 9s 875us/step - loss: 0.0967 - acc: 0.9789\n",
      "Epoch 6/100\n",
      "10000/10000 [==============================] - 10s 1ms/step - loss: 0.0925 - acc: 0.9811\n",
      "Epoch 7/100\n",
      "10000/10000 [==============================] - 10s 974us/step - loss: 0.0868 - acc: 0.9817\n",
      "Epoch 8/100\n",
      "10000/10000 [==============================] - 10s 979us/step - loss: 0.0820 - acc: 0.9828\n",
      "Epoch 9/100\n",
      "10000/10000 [==============================] - 10s 990us/step - loss: 0.0783 - acc: 0.9850\n",
      "Epoch 10/100\n",
      "10000/10000 [==============================] - 10s 991us/step - loss: 0.0782 - acc: 0.9826\n",
      "Epoch 11/100\n",
      "10000/10000 [==============================] - 11s 1ms/step - loss: 0.0765 - acc: 0.9855\n",
      "Epoch 12/100\n",
      "10000/10000 [==============================] - 10s 1ms/step - loss: 0.0720 - acc: 0.9863\n",
      "Epoch 13/100\n",
      "10000/10000 [==============================] - 9s 929us/step - loss: 0.0725 - acc: 0.9853\n",
      "Epoch 14/100\n",
      "10000/10000 [==============================] - 10s 955us/step - loss: 0.0719 - acc: 0.9869\n",
      "Epoch 15/100\n",
      "10000/10000 [==============================] - 10s 1ms/step - loss: 0.0702 - acc: 0.9857\n",
      "Epoch 16/100\n",
      "10000/10000 [==============================] - 10s 1ms/step - loss: 0.0692 - acc: 0.9871\n",
      "Epoch 17/100\n",
      "10000/10000 [==============================] - 10s 1ms/step - loss: 0.0695 - acc: 0.9876\n",
      "Epoch 18/100\n",
      "10000/10000 [==============================] - 11s 1ms/step - loss: 0.0685 - acc: 0.9865: 2s - loss: 0.069\n",
      "Epoch 19/100\n",
      "10000/10000 [==============================] - 9s 905us/step - loss: 0.0684 - acc: 0.9868\n",
      "Epoch 20/100\n",
      "10000/10000 [==============================] - 10s 952us/step - loss: 0.0669 - acc: 0.9879\n",
      "Epoch 21/100\n",
      "10000/10000 [==============================] - 9s 948us/step - loss: 0.0661 - acc: 0.9868\n",
      "Epoch 22/100\n",
      "10000/10000 [==============================] - 10s 958us/step - loss: 0.0657 - acc: 0.9876\n",
      "Epoch 23/100\n",
      "10000/10000 [==============================] - 10s 962us/step - loss: 0.0649 - acc: 0.98802s - los\n",
      "Epoch 24/100\n",
      "10000/10000 [==============================] - 10s 993us/step - loss: 0.0658 - acc: 0.9885\n",
      "Epoch 25/100\n",
      "10000/10000 [==============================] - 9s 894us/step - loss: 0.0639 - acc: 0.9898\n",
      "Epoch 26/100\n",
      "10000/10000 [==============================] - 9s 917us/step - loss: 0.0637 - acc: 0.9874\n",
      "Epoch 27/100\n",
      "10000/10000 [==============================] - 10s 960us/step - loss: 0.0631 - acc: 0.9902\n",
      "Epoch 28/100\n",
      "10000/10000 [==============================] - 10s 962us/step - loss: 0.0634 - acc: 0.98812s - loss: 0.0\n",
      "Epoch 29/100\n",
      "10000/10000 [==============================] - 10s 978us/step - loss: 0.0631 - acc: 0.9880\n",
      "Epoch 30/100\n",
      "10000/10000 [==============================] - 10s 967us/step - loss: 0.0609 - acc: 0.9902\n",
      "Epoch 31/100\n",
      "10000/10000 [==============================] - 10s 975us/step - loss: 0.0624 - acc: 0.9885\n",
      "Epoch 32/100\n",
      "10000/10000 [==============================] - 10s 1ms/step - loss: 0.0618 - acc: 0.9894: 5s - loss: 0 - ETA: 3s - loss: 0.0616 - acc: 0. - ETA: 2s - loss:\n",
      "Epoch 33/100\n",
      "10000/10000 [==============================] - 10s 960us/step - loss: 0.0608 - acc: 0.9892\n",
      "Epoch 34/100\n",
      "10000/10000 [==============================] - 9s 916us/step - loss: 0.0621 - acc: 0.9890\n",
      "Epoch 35/100\n",
      "10000/10000 [==============================] - 9s 901us/step - loss: 0.0603 - acc: 0.9906\n",
      "Epoch 36/100\n",
      "10000/10000 [==============================] - 10s 979us/step - loss: 0.0619 - acc: 0.9883\n",
      "Epoch 37/100\n",
      "10000/10000 [==============================] - 9s 928us/step - loss: 0.0607 - acc: 0.9899 3s - loss: 0.0607 - ac - ETA: 2s - los\n",
      "Epoch 38/100\n",
      "10000/10000 [==============================] - 9s 939us/step - loss: 0.0596 - acc: 0.9902\n",
      "Epoch 39/100\n",
      "10000/10000 [==============================] - 10s 971us/step - loss: 0.0604 - acc: 0.9898\n",
      "Epoch 40/100\n",
      "10000/10000 [==============================] - 10s 959us/step - loss: 0.0603 - acc: 0.98973s \n",
      "Epoch 41/100\n",
      "10000/10000 [==============================] - 10s 1ms/step - loss: 0.0602 - acc: 0.9896\n",
      "Epoch 42/100\n",
      "10000/10000 [==============================] - 11s 1ms/step - loss: 0.0598 - acc: 0.9894\n",
      "Epoch 43/100\n",
      "10000/10000 [==============================] - 10s 1ms/step - loss: 0.0593 - acc: 0.9897\n",
      "Epoch 44/100\n",
      "10000/10000 [==============================] - 10s 996us/step - loss: 0.0585 - acc: 0.9902\n",
      "Epoch 45/100\n",
      "10000/10000 [==============================] - 9s 940us/step - loss: 0.0589 - acc: 0.9890\n",
      "Epoch 46/100\n",
      "10000/10000 [==============================] - 10s 974us/step - loss: 0.0595 - acc: 0.9901\n",
      "Epoch 47/100\n",
      "10000/10000 [==============================] - 9s 919us/step - loss: 0.0593 - acc: 0.9898\n",
      "Epoch 48/100\n",
      "10000/10000 [==============================] - 10s 958us/step - loss: 0.0576 - acc: 0.9907\n",
      "Epoch 49/100\n",
      "10000/10000 [==============================] - 9s 945us/step - loss: 0.0588 - acc: 0.9902 2s - loss: 0.057 - ETA: 0s - loss: 0.0581 - acc: 0.\n",
      "Epoch 50/100\n",
      "10000/10000 [==============================] - 10s 953us/step - loss: 0.0577 - acc: 0.9910\n",
      "Epoch 51/100\n",
      "10000/10000 [==============================] - 9s 904us/step - loss: 0.0569 - acc: 0.9927\n",
      "Epoch 52/100\n",
      "10000/10000 [==============================] - 10s 993us/step - loss: 0.0581 - acc: 0.9910\n",
      "Epoch 53/100\n",
      "10000/10000 [==============================] - 10s 1ms/step - loss: 0.0579 - acc: 0.9917\n",
      "Epoch 54/100\n",
      "10000/10000 [==============================] - 11s 1ms/step - loss: 0.0581 - acc: 0.9894\n",
      "Epoch 55/100\n",
      "10000/10000 [==============================] - 10s 1ms/step - loss: 0.0570 - acc: 0.9903\n",
      "Epoch 56/100\n",
      "10000/10000 [==============================] - 12s 1ms/step - loss: 0.0582 - acc: 0.9902\n",
      "Epoch 57/100\n",
      "10000/10000 [==============================] - 11s 1ms/step - loss: 0.0581 - acc: 0.9910\n",
      "Epoch 58/100\n",
      "10000/10000 [==============================] - 10s 1ms/step - loss: 0.0570 - acc: 0.9911\n",
      "Epoch 59/100\n",
      "10000/10000 [==============================] - 10s 968us/step - loss: 0.0567 - acc: 0.9918\n",
      "Epoch 60/100\n",
      "10000/10000 [==============================] - 9s 946us/step - loss: 0.0573 - acc: 0.9903\n",
      "Epoch 61/100\n",
      "10000/10000 [==============================] - 10s 971us/step - loss: 0.0564 - acc: 0.9928\n",
      "Epoch 62/100\n",
      "10000/10000 [==============================] - 10s 951us/step - loss: 0.0568 - acc: 0.9895\n",
      "Epoch 63/100\n",
      "10000/10000 [==============================] - 9s 945us/step - loss: 0.0572 - acc: 0.9906\n",
      "Epoch 64/100\n",
      "10000/10000 [==============================] - 9s 930us/step - loss: 0.0567 - acc: 0.9902\n",
      "Epoch 65/100\n",
      "10000/10000 [==============================] - 10s 987us/step - loss: 0.0571 - acc: 0.9916\n",
      "Epoch 66/100\n",
      "10000/10000 [==============================] - 9s 918us/step - loss: 0.0575 - acc: 0.9915\n",
      "Epoch 67/100\n",
      "10000/10000 [==============================] - 9s 943us/step - loss: 0.0563 - acc: 0.9905 2s - loss: 0.0548 - acc: 0.99 - ETA: 2s - loss: 0.05\n",
      "Epoch 68/100\n",
      "10000/10000 [==============================] - 9s 944us/step - loss: 0.0562 - acc: 0.9919\n",
      "Epoch 69/100\n",
      "10000/10000 [==============================] - 9s 931us/step - loss: 0.0552 - acc: 0.9932\n",
      "Epoch 70/100\n",
      "10000/10000 [==============================] - 10s 955us/step - loss: 0.0552 - acc: 0.99282s - loss: 0.0\n",
      "Epoch 71/100\n",
      "10000/10000 [==============================] - 10s 1ms/step - loss: 0.0567 - acc: 0.9912\n",
      "Epoch 72/100\n",
      "10000/10000 [==============================] - 9s 908us/step - loss: 0.0555 - acc: 0.9909\n",
      "Epoch 73/100\n",
      "10000/10000 [==============================] - 10s 960us/step - loss: 0.0560 - acc: 0.9921\n",
      "Epoch 74/100\n",
      "10000/10000 [==============================] - 10s 975us/step - loss: 0.0553 - acc: 0.9922\n",
      "Epoch 75/100\n",
      "10000/10000 [==============================] - 9s 931us/step - loss: 0.0562 - acc: 0.9920\n",
      "Epoch 76/100\n",
      "10000/10000 [==============================] - 10s 950us/step - loss: 0.0558 - acc: 0.99051s - loss: 0.0570 - a\n",
      "Epoch 77/100\n"
     ]
    },
    {
     "name": "stdout",
     "output_type": "stream",
     "text": [
      "10000/10000 [==============================] - 10s 976us/step - loss: 0.0551 - acc: 0.9917\n",
      "Epoch 78/100\n",
      "10000/10000 [==============================] - 10s 982us/step - loss: 0.0556 - acc: 0.9918\n",
      "Epoch 79/100\n",
      "10000/10000 [==============================] - 10s 995us/step - loss: 0.0548 - acc: 0.9922\n",
      "Epoch 80/100\n",
      "10000/10000 [==============================] - 9s 938us/step - loss: 0.0549 - acc: 0.9913\n",
      "Epoch 81/100\n",
      "10000/10000 [==============================] - 10s 977us/step - loss: 0.0559 - acc: 0.9912\n",
      "Epoch 82/100\n",
      "10000/10000 [==============================] - 10s 992us/step - loss: 0.0540 - acc: 0.9935\n",
      "Epoch 83/100\n",
      "10000/10000 [==============================] - 9s 919us/step - loss: 0.0550 - acc: 0.9922\n",
      "Epoch 84/100\n",
      "10000/10000 [==============================] - 10s 955us/step - loss: 0.0553 - acc: 0.99282s - loss: 0\n",
      "Epoch 85/100\n",
      "10000/10000 [==============================] - 10s 1ms/step - loss: 0.0539 - acc: 0.9935\n",
      "Epoch 86/100\n",
      "10000/10000 [==============================] - 10s 969us/step - loss: 0.0551 - acc: 0.9917\n",
      "Epoch 87/100\n",
      "10000/10000 [==============================] - 9s 932us/step - loss: 0.0547 - acc: 0.9918\n",
      "Epoch 88/100\n",
      "10000/10000 [==============================] - 10s 961us/step - loss: 0.0552 - acc: 0.9926\n",
      "Epoch 89/100\n",
      "10000/10000 [==============================] - 9s 936us/step - loss: 0.0540 - acc: 0.9933\n",
      "Epoch 90/100\n",
      "10000/10000 [==============================] - 10s 952us/step - loss: 0.0548 - acc: 0.9917\n",
      "Epoch 91/100\n",
      "10000/10000 [==============================] - 10s 961us/step - loss: 0.0547 - acc: 0.9917\n",
      "Epoch 92/100\n",
      "10000/10000 [==============================] - 8s 829us/step - loss: 0.0540 - acc: 0.9930\n",
      "Epoch 93/100\n",
      "10000/10000 [==============================] - 8s 751us/step - loss: 0.0544 - acc: 0.9918\n",
      "Epoch 94/100\n",
      "10000/10000 [==============================] - 8s 768us/step - loss: 0.0540 - acc: 0.9934\n",
      "Epoch 95/100\n",
      "10000/10000 [==============================] - 8s 767us/step - loss: 0.0543 - acc: 0.9926\n",
      "Epoch 96/100\n",
      "10000/10000 [==============================] - 6s 638us/step - loss: 0.0544 - acc: 0.9919\n",
      "Epoch 97/100\n",
      "10000/10000 [==============================] - 6s 567us/step - loss: 0.0550 - acc: 0.9924 3s - loss:  - ETA: 1s - loss: 0.0547 - acc - ETA: 0s - loss: 0.0543 - acc\n",
      "Epoch 98/100\n",
      "10000/10000 [==============================] - 5s 478us/step - loss: 0.0539 - acc: 0.9933\n",
      "Epoch 99/100\n",
      "10000/10000 [==============================] - 4s 399us/step - loss: 0.0541 - acc: 0.9931 1s \n",
      "Epoch 100/100\n",
      "10000/10000 [==============================] - 4s 391us/step - loss: 0.0533 - acc: 0.9923\n"
     ]
    },
    {
     "data": {
      "text/plain": [
       "<keras.callbacks.History at 0x21cb67bf358>"
      ]
     },
     "execution_count": 18,
     "metadata": {},
     "output_type": "execute_result"
    }
   ],
   "source": [
    "model.fit(x_train,prediction,\n",
    "                    batch_size = 64,\n",
    "                    epochs = 100,\n",
    "                    verbose=1)"
   ]
  },
  {
   "cell_type": "code",
   "execution_count": 19,
   "metadata": {},
   "outputs": [],
   "source": [
    "model.save('model\\\\shadow4_T_1.h5')"
   ]
  },
  {
   "cell_type": "code",
   "execution_count": 20,
   "metadata": {},
   "outputs": [
    {
     "name": "stdout",
     "output_type": "stream",
     "text": [
      "10000/10000 [==============================] - 2s 174us/step\n",
      "Test loss: 0.10273132284950116\n",
      "Test accuracy: 0.9713\n"
     ]
    }
   ],
   "source": [
    "x_test = x_test.reshape(10000,784)\n",
    "score = model.evaluate(x_test, y_test, verbose=1)\n",
    "print('Test loss:', score[0])\n",
    "print('Test accuracy:', score[1])"
   ]
  },
  {
   "cell_type": "code",
   "execution_count": null,
   "metadata": {},
   "outputs": [],
   "source": []
  }
 ],
 "metadata": {
  "kernelspec": {
   "display_name": "python35",
   "language": "python",
   "name": "python35"
  },
  "language_info": {
   "codemirror_mode": {
    "name": "ipython",
    "version": 3
   },
   "file_extension": ".py",
   "mimetype": "text/x-python",
   "name": "python",
   "nbconvert_exporter": "python",
   "pygments_lexer": "ipython3",
   "version": "3.5.6"
  }
 },
 "nbformat": 4,
 "nbformat_minor": 2
}
